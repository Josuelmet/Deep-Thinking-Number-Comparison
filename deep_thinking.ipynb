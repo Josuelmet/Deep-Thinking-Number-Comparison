{
  "cells": [
    {
      "cell_type": "markdown",
      "id": "4fed9094-e68f-47d9-9589-04893e3fa32e",
      "metadata": {
        "id": "4fed9094-e68f-47d9-9589-04893e3fa32e"
      },
      "source": [
        "## Imports"
      ]
    },
    {
      "cell_type": "code",
      "execution_count": null,
      "id": "562435cf-8a24-4cdf-8328-7ef0a57faa92",
      "metadata": {
        "id": "562435cf-8a24-4cdf-8328-7ef0a57faa92"
      },
      "outputs": [],
      "source": [
        "import numpy as np\n",
        "from torch.optim import SGD, Adam, AdamW\n",
        "from torch.optim.lr_scheduler import MultiStepLR, CosineAnnealingLR\n",
        "from tqdm import tqdm"
      ]
    },
    {
      "cell_type": "markdown",
      "source": [
        "## Blocks"
      ],
      "metadata": {
        "id": "vfUIUm6PuRNM"
      },
      "id": "vfUIUm6PuRNM"
    },
    {
      "cell_type": "code",
      "source": [
        "\"\"\" blocks.py\n",
        "    Neural network blocks.\n",
        "\n",
        "    Collaboratively developed\n",
        "    by Avi Schwarzschild, Eitan Borgnia,\n",
        "    Arpit Bansal, and Zeyad Emam.\n",
        "\n",
        "    BasicBlocks borrowed from ResNet architechtures\n",
        "    Deep Residual Learning for Image Recognition\" <https://arxiv.org/pdf/1512.03385.pdf>\n",
        "\n",
        "    Developed for DeepThinking project\n",
        "    October 2021\n",
        "\"\"\"\n",
        "\n",
        "from torch import nn\n",
        "import torch.nn.functional as F\n",
        "\n",
        "\n",
        "class BasicBlock(nn.Module):\n",
        "    \"\"\"Basic residual block class 1D\"\"\"\n",
        "\n",
        "    expansion = 1\n",
        "\n",
        "    def __init__(self, in_planes, planes, stride=1, group_norm=False):\n",
        "        super().__init__()\n",
        "        self.conv1 = nn.Conv1d(in_planes, planes, kernel_size=3,\n",
        "                               stride=stride, padding=1, bias=False)\n",
        "        self.gn1 = nn.GroupNorm(4, planes, affine=False) if group_norm else nn.Sequential()\n",
        "        self.conv2 = nn.Conv1d(planes, planes, kernel_size=3,\n",
        "                               stride=1, padding=1, bias=False)\n",
        "        self.gn2 = nn.GroupNorm(4, planes, affine=False) if group_norm else nn.Sequential()\n",
        "\n",
        "        self.shortcut = nn.Sequential()\n",
        "        if stride != 1 or in_planes != self.expansion * planes:\n",
        "            self.shortcut = nn.Sequential(nn.Conv1d(in_planes, self.expansion * planes,\n",
        "                                                    kernel_size=1, stride=stride, bias=False))\n",
        "\n",
        "    def forward(self, x):\n",
        "        out = F.relu(self.gn1(self.conv1(x)))\n",
        "        out = self.gn2(self.conv2(out))\n",
        "        out += self.shortcut(x)\n",
        "        out = F.relu(out)\n",
        "        return out"
      ],
      "metadata": {
        "id": "2zuInvzxvSzP"
      },
      "id": "2zuInvzxvSzP",
      "execution_count": null,
      "outputs": []
    },
    {
      "cell_type": "markdown",
      "source": [
        "## Models"
      ],
      "metadata": {
        "id": "lal09BsNvO4Z"
      },
      "id": "lal09BsNvO4Z"
    },
    {
      "cell_type": "code",
      "source": [
        "\"\"\" dt_net_1d.py\n",
        "    DeepThinking 1D convolutional neural network.\n",
        "\n",
        "    Collaboratively developed\n",
        "    by Avi Schwarzschild, Eitan Borgnia,\n",
        "    Arpit Bansal, and Zeyad Emam.\n",
        "\n",
        "    Developed for DeepThinking project\n",
        "    October 2021\n",
        "\"\"\"\n",
        "\n",
        "import torch\n",
        "from torch import nn\n",
        "\n",
        "# Ignore statemenst for pylint:\n",
        "#     Too many branches (R0912), Too many statements (R0915), No member (E1101),\n",
        "#     Not callable (E1102), Invalid name (C0103), No exception (W0702)\n",
        "# pylint: disable=R0912, R0915, E1101, E1102, C0103, W0702, R0914\n",
        "\n",
        "\n",
        "class DTNet1D(nn.Module):\n",
        "    \"\"\"DeepThinking 1D Network model class\"\"\"\n",
        "\n",
        "    def __init__(self, block, num_blocks, width, recall, group_norm=False, **kwargs):\n",
        "        super().__init__()\n",
        "\n",
        "        self.width = int(width)\n",
        "        self.recall = recall\n",
        "        self.group_norm = group_norm\n",
        "\n",
        "        proj_conv = nn.Conv1d(1, width, kernel_size=3,\n",
        "                              stride=1, padding=1, bias=False)\n",
        "\n",
        "        conv_recall = nn.Conv1d(width + 1, width, kernel_size=3,\n",
        "                                stride=1, padding=1, bias=False)\n",
        "\n",
        "        if self.recall:\n",
        "            recur_layers = [conv_recall, nn.ReLU()]\n",
        "        else:\n",
        "            recur_layers = []\n",
        "\n",
        "        for i in range(len(num_blocks)):\n",
        "            recur_layers.append(self._make_layer(block, width, num_blocks[i], stride=1))\n",
        "\n",
        "        head_conv1 = nn.Conv1d(width, width, kernel_size=3,\n",
        "                               stride=1, padding=1, bias=False)\n",
        "        head_conv2 = nn.Conv1d(width, int(width/2), kernel_size=3,\n",
        "                               stride=1, padding=1, bias=False)\n",
        "        head_conv3 = nn.Conv1d(int(width/2), 2, kernel_size=3,\n",
        "                               stride=1, padding=1, bias=False)\n",
        "\n",
        "        self.projection = nn.Sequential(proj_conv, nn.ReLU())\n",
        "        self.recur_block = nn.Sequential(*recur_layers)\n",
        "        self.head = nn.Sequential(head_conv1, nn.ReLU(),\n",
        "                                  head_conv2, nn.ReLU(),\n",
        "                                  head_conv3)\n",
        "\n",
        "    def _make_layer(self, block, planes, num_blocks, stride):\n",
        "        strides = [stride] + [1]*(num_blocks-1)\n",
        "        layers = []\n",
        "        for strd in strides:\n",
        "            layers.append(block(self.width, planes, strd, self.group_norm))\n",
        "            self.width = planes * block.expansion\n",
        "        return nn.Sequential(*layers)\n",
        "\n",
        "    def forward(self, x, iters_to_do, interim_thought=None, **kwargs):\n",
        "        initial_thought = self.projection(x)\n",
        "\n",
        "        if interim_thought is None:\n",
        "            interim_thought = initial_thought\n",
        "\n",
        "        all_outputs = torch.zeros((x.size(0), iters_to_do, 2, x.size(2))).to(x.device)\n",
        "\n",
        "        for i in range(iters_to_do):\n",
        "            if self.recall:\n",
        "                interim_thought = torch.cat([interim_thought, x], 1)\n",
        "\n",
        "            interim_thought = self.recur_block(interim_thought)\n",
        "            out = self.head(interim_thought)\n",
        "            all_outputs[:, i] = out\n",
        "\n",
        "        if self.training:\n",
        "            return out, interim_thought\n",
        "\n",
        "        return all_outputs\n",
        "\n",
        "\n",
        "def dt_net_1d(width, **kwargs):\n",
        "    return DTNet1D(BasicBlock, [2], width, recall=False)\n",
        "\n",
        "\n",
        "def dt_net_recall_1d(width, **kwargs):\n",
        "    return DTNet1D(BasicBlock, [2], width, recall=True)\n",
        "\n",
        "\n",
        "def dt_net_gn_1d(width, **kwargs):\n",
        "    return DTNet1D(BasicBlock, [2], width, recall=False, group_norm=True)\n",
        "\n",
        "\n",
        "def dt_net_recall_gn_1d(width, **kwargs):\n",
        "    return DTNet1D(BasicBlock, [2], width, recall=True, group_norm=True)\n",
        "\n",
        "\n",
        "\n",
        "\n",
        "\n",
        "\n",
        "\n",
        "class FeedForwardNet1D(nn.Module):\n",
        "    \"\"\"Modified Residual Network model class\"\"\"\n",
        "\n",
        "    def __init__(self, block, num_blocks, width, recall, max_iters=8, group_norm=False):\n",
        "        super().__init__()\n",
        "\n",
        "        self.width = int(width)\n",
        "        self.recall = recall\n",
        "        self.group_norm = group_norm\n",
        "\n",
        "        proj_conv = nn.Conv1d(1, width, kernel_size=3, stride=1, padding=1, bias=False)\n",
        "\n",
        "        if self.recall:\n",
        "            self.recall_layer = nn.Conv1d(width + 1, width, kernel_size=3,\n",
        "                                          stride=1, padding=1, bias=False)\n",
        "        else:\n",
        "            self.recall_layer = nn.Sequential()\n",
        "\n",
        "        self.feedforward_layers = nn.ModuleList()\n",
        "        for _ in range(max_iters):\n",
        "            internal_block = []\n",
        "            for j in range(len(num_blocks)):\n",
        "                internal_block.append(self._make_layer(block, width, num_blocks[j], stride=1))\n",
        "            self.feedforward_layers.append(nn.Sequential(*internal_block))\n",
        "\n",
        "        head_conv1 = nn.Conv1d(width, width, kernel_size=3, stride=1, padding=1, bias=False)\n",
        "        head_conv2 = nn.Conv1d(width, int(width/2), kernel_size=3, stride=1, padding=1, bias=False)\n",
        "        head_conv3 = nn.Conv1d(int(width/2), 2, kernel_size=3, stride=1, padding=1, bias=False)\n",
        "\n",
        "        self.iters = max_iters\n",
        "        self.projection = nn.Sequential(proj_conv, nn.ReLU())\n",
        "        self.head = nn.Sequential(head_conv1, nn.ReLU(), head_conv2, nn.ReLU(), head_conv3)\n",
        "\n",
        "    def _make_layer(self, block, planes, num_blocks, stride):\n",
        "        strides = [stride] + [1] * (num_blocks - 1)\n",
        "        layers = []\n",
        "        for strd in strides:\n",
        "            layers.append(block(self.width, planes, strd, self.group_norm))\n",
        "            self.width = planes * block.expansion\n",
        "        return nn.Sequential(*layers)\n",
        "\n",
        "    def forward(self, x, iters_to_do, interim_thought=None, iters_elapsed=0, **kwargs):\n",
        "        assert (iters_elapsed + iters_to_do) <= self.iters\n",
        "        initial_thought = self.projection(x)\n",
        "\n",
        "        if interim_thought is None:\n",
        "            interim_thought = initial_thought\n",
        "\n",
        "        all_outputs = torch.zeros((x.size(0), iters_to_do, 2, x.size(2))).to(x.device)\n",
        "\n",
        "        for i, layer in enumerate(self.feedforward_layers[iters_elapsed:iters_elapsed+iters_to_do]):\n",
        "            if self.recall:\n",
        "                interim_thought = torch.cat([interim_thought, x], 1)\n",
        "                interim_thought = self.recall_layer(interim_thought)\n",
        "            interim_thought = layer(interim_thought)\n",
        "            out = self.head(interim_thought)\n",
        "            all_outputs[:, i] = out\n",
        "\n",
        "        if self.training:\n",
        "            return out, interim_thought\n",
        "\n",
        "        return all_outputs\n",
        "\n",
        "\n",
        "def feedforward_net_1d(width, **kwargs):\n",
        "    return FeedForwardNet1D(BasicBlock, [2], width, recall=False, max_iters=kwargs[\"max_iters\"])\n",
        "\n",
        "\n",
        "def feedforward_net_recall_1d(width, **kwargs):\n",
        "    return FeedForwardNet1D(BasicBlock, [2], width, recall=True, max_iters=kwargs[\"max_iters\"])\n",
        "\n",
        "\n",
        "def feedforward_net_gn_1d(width, **kwargs):\n",
        "    return FeedForwardNet1D(BasicBlock, [2], width, recall=False, max_iters=kwargs[\"max_iters\"], group_norm=True)\n",
        "\n",
        "\n",
        "def feedforward_net_recall_gn_1d(width, **kwargs):\n",
        "    return FeedForwardNet1D(BasicBlock, [2], width, recall=True, max_iters=kwargs[\"max_iters\"], group_norm=True)"
      ],
      "metadata": {
        "id": "A2lNVQjGubRl"
      },
      "id": "A2lNVQjGubRl",
      "execution_count": null,
      "outputs": []
    },
    {
      "cell_type": "markdown",
      "source": [
        "## Dataset"
      ],
      "metadata": {
        "id": "U4PIV8D2wAs6"
      },
      "id": "U4PIV8D2wAs6"
    },
    {
      "cell_type": "code",
      "source": [
        "# Custom code\n",
        "\n",
        "import torch\n",
        "from torch.utils import data\n",
        "\n",
        "class ComparisonDataset(torch.utils.data.Dataset):\n",
        "    \n",
        "    def __init__(self, num_digits: int = 32, num_samples: int = int(1e4)):\n",
        "        \n",
        "        self.inputs = torch.rand(num_samples, num_digits) - 0.5\n",
        "        \n",
        "        # new code\n",
        "        self.inputs = self.inputs.view(self.inputs.size(0), 1, -1)\n",
        "        \n",
        "        self.targets = self.inputs < self.inputs[:, :, 0:1]\n",
        "        \n",
        "    def __getitem__(self, index):\n",
        "        return self.inputs[index], self.targets[index]\n",
        "\n",
        "    def __len__(self):\n",
        "        return self.inputs.size(0)\n",
        "    \n",
        "    \n",
        "    \n",
        "\n",
        "def prepare_custom_loader(train_batch_size, test_batch_size, train_data, test_data,\n",
        "                          train_split=0.8, shuffle=True):\n",
        "\n",
        "    dataset = ComparisonDataset(num_digits=train_data)\n",
        "    testset = ComparisonDataset(num_digits=test_data)\n",
        "\n",
        "    train_split = int(train_split * len(dataset))\n",
        "\n",
        "    trainset, valset = torch.utils.data.random_split(dataset,\n",
        "                                                     [train_split,\n",
        "                                                      int(len(dataset) - train_split)],\n",
        "                                                     generator=torch.Generator().manual_seed(42))\n",
        "\n",
        "    trainloader = data.DataLoader(trainset, num_workers=0, batch_size=train_batch_size,\n",
        "                                  shuffle=shuffle, drop_last=True)\n",
        "    testloader = data.DataLoader(testset, num_workers=0, batch_size=test_batch_size,\n",
        "                                 shuffle=False, drop_last=False)\n",
        "    valloader = data.DataLoader(valset, num_workers=0, batch_size=test_batch_size,\n",
        "                                shuffle=False, drop_last=False)\n",
        "    loaders = {\"train\": trainloader, \"test\": testloader, \"val\": valloader}\n",
        "\n",
        "    return loaders"
      ],
      "metadata": {
        "id": "8bmbiw3BwFwO"
      },
      "id": "8bmbiw3BwFwO",
      "execution_count": null,
      "outputs": []
    },
    {
      "cell_type": "markdown",
      "source": [
        "## Warmup"
      ],
      "metadata": {
        "id": "DG5txU9yxF8H"
      },
      "id": "DG5txU9yxF8H"
    },
    {
      "cell_type": "code",
      "source": [
        "\"\"\" warmup.py\n",
        "    code for warmup learning rate scheduler\n",
        "    borrowed from https://github.com/ArneNx/pytorch_warmup/tree/warmup_fix\n",
        "    and modified July 2020\n",
        "\"\"\"\n",
        "\n",
        "import math\n",
        "from torch.optim import Optimizer\n",
        "\n",
        "# Ignore statemenst for pylint:\n",
        "#     Too many branches (R0912), Too many statements (R0915), No member (E1101),\n",
        "#     Not callable (E1102), Invalid name (C0103), No exception (W0702),\n",
        "#     Too many local variables (R0914).\n",
        "# pylint: disable=R0912, R0915, E1101, E1102, C0103, W0702, R0914\n",
        "\n",
        "\n",
        "class BaseWarmup:\n",
        "    \"\"\"Base class for all warmup schedules\n",
        "\n",
        "    Arguments:\n",
        "        optimizer (Optimizer): an instance of a subclass of Optimizer\n",
        "        warmup_params (list): warmup paramters\n",
        "        last_step (int): The index of last step. (Default: -1)\n",
        "        warmup_period (int or list): Warmup period\n",
        "    \"\"\"\n",
        "\n",
        "    def __init__(self, optimizer, warmup_params, last_step=-1, warmup_period=0):\n",
        "        if not isinstance(optimizer, Optimizer):\n",
        "            raise TypeError('{} is not an Optimizer'.format(\n",
        "                type(optimizer).__name__))\n",
        "        self.optimizer = optimizer\n",
        "        self.warmup_params = warmup_params\n",
        "        self.last_step = last_step\n",
        "        self.base_lrs = [group['lr'] for group in self.optimizer.param_groups]\n",
        "        self.warmup_period = warmup_period\n",
        "        self.dampen()\n",
        "\n",
        "    def state_dict(self):\n",
        "        \"\"\"Returns the state of the warmup scheduler as a :class:`dict`.\n",
        "\n",
        "        It contains an entry for every variable in self.__dict__ which\n",
        "        is not the optimizer.\n",
        "        \"\"\"\n",
        "        return {key: value for key, value in self.__dict__.items() if key != 'optimizer'}\n",
        "\n",
        "    def load_state_dict(self, state_dict):\n",
        "        \"\"\"Loads the warmup scheduler's state.\n",
        "\n",
        "        Arguments:\n",
        "            state_dict (dict): warmup scheduler state. Should be an object returned\n",
        "                from a call to :meth:`state_dict`.\n",
        "        \"\"\"\n",
        "        self.__dict__.update(state_dict)\n",
        "\n",
        "    def dampen(self, step=None):\n",
        "        \"\"\"Dampen the learning rates.\n",
        "\n",
        "        Arguments:\n",
        "            step (int): The index of current step. (Default: None)\n",
        "        \"\"\"\n",
        "        if step is None:\n",
        "            step = self.last_step + 1\n",
        "        self.last_step = step\n",
        "        if isinstance(self.warmup_period, int) and step < self.warmup_period:\n",
        "            for i, (group, params) in enumerate(zip(self.optimizer.param_groups,\n",
        "                                                    self.warmup_params)):\n",
        "                if isinstance(self.warmup_period, list) and step >= self.warmup_period[i]:\n",
        "                    continue\n",
        "                omega = self.warmup_factor(step, **params)\n",
        "                group['lr'] = omega * self.base_lrs[i]\n",
        "\n",
        "    def warmup_factor(self, step, warmup_period):\n",
        "        \"\"\"Place holder for objects that inherit BaseWarmup.\"\"\"\n",
        "        raise NotImplementedError\n",
        "\n",
        "\n",
        "def get_warmup_params(warmup_period, group_count):\n",
        "    if type(warmup_period) == list:\n",
        "        if len(warmup_period) != group_count:\n",
        "            raise ValueError(\n",
        "                'size of warmup_period does not equal {}.'.format(group_count))\n",
        "        for x in warmup_period:\n",
        "            if type(x) != int:\n",
        "                raise ValueError(\n",
        "                    'An element in warmup_period, {}, is not an int.'.format(\n",
        "                        type(x).__name__))\n",
        "        warmup_params = [dict(warmup_period=x) for x in warmup_period]\n",
        "    elif type(warmup_period) == int:\n",
        "        warmup_params = [dict(warmup_period=warmup_period)\n",
        "                         for _ in range(group_count)]\n",
        "    else:\n",
        "        raise TypeError('{} is not a list nor an int.'.format(\n",
        "            type(warmup_period).__name__))\n",
        "    return warmup_params\n",
        "\n",
        "\n",
        "class ExponentialWarmup(BaseWarmup):\n",
        "    \"\"\"Exponential warmup schedule.\n",
        "\n",
        "    Arguments:\n",
        "        optimizer (Optimizer): an instance of a subclass of Optimizer\n",
        "        warmup_period (int or list): Effective warmup period\n",
        "        last_step (int): The index of last step. (Default: -1)\n",
        "    \"\"\"\n",
        "\n",
        "    def __init__(self, optimizer, warmup_period, last_step=-1):\n",
        "        group_count = len(optimizer.param_groups)\n",
        "        warmup_params = get_warmup_params(warmup_period, group_count)\n",
        "        super().__init__(optimizer, warmup_params, last_step, warmup_period)\n",
        "\n",
        "    def warmup_factor(self, step, warmup_period):\n",
        "        if step + 1 >= warmup_period:\n",
        "            return 1.0\n",
        "        else:\n",
        "            return 1.0 - math.exp(-(step+1) / warmup_period)\n"
      ],
      "metadata": {
        "id": "i1wFB20_xIJ0"
      },
      "id": "i1wFB20_xIJ0",
      "execution_count": null,
      "outputs": []
    },
    {
      "cell_type": "markdown",
      "id": "d5afd30d-4000-4233-9492-43f380ca0254",
      "metadata": {
        "id": "d5afd30d-4000-4233-9492-43f380ca0254"
      },
      "source": [
        "## Train Model"
      ]
    },
    {
      "cell_type": "markdown",
      "id": "de0b81aa-b93e-4762-9ac0-fc12c0b53385",
      "metadata": {
        "id": "de0b81aa-b93e-4762-9ac0-fc12c0b53385"
      },
      "source": [
        "#### Hyperparameters"
      ]
    },
    {
      "cell_type": "code",
      "execution_count": null,
      "id": "3b5d66be-a972-404a-a8e4-661be462b37b",
      "metadata": {
        "id": "3b5d66be-a972-404a-a8e4-661be462b37b"
      },
      "outputs": [],
      "source": [
        "# Progress:\n",
        "# so far, using train_batch_size = 50 seems to be promising.\n",
        "# training is capping out around 87-90% using batch=50, width = 300 and max_iters = 10\n",
        "# try tuning learning rate using smaller batch sizes !!!\n",
        "\n",
        "# Data parameters\n",
        "problem = \"custom\"\n",
        "train_batch_size = 100 # 50 # 20 # 100\n",
        "test_batch_size = 100 # 500 ?\n",
        "train_data = 32 # length of sequences for training data\n",
        "test_data = 128 # 512 # length of sequences for testing data\n",
        "\n",
        "# Training parameters\n",
        "alpha = 1\n",
        "clip = 1\n",
        "epochs = 150\n",
        "lr = 0.001 #0.002 # 0.001\n",
        "lr_decay = \"step\"\n",
        "lr_factor = 0.1 # 0.1\n",
        "lr_schedule = [60, 100] # [70, 100] # [60, 100]\n",
        "lr_throttle: False # lr_throttle is only needed for mazes.\n",
        "optimizer_name = \"adam\"\n",
        "save_period = -1\n",
        "test_mode = \"default\"\n",
        "train_mode = \"progressive\"\n",
        "val_period = 20\n",
        "warmup_period = 10\n",
        "\n",
        "# Model parameters\n",
        "#model: dt_net_recall_1d\n",
        "#model_path:\n",
        "width = 400 #300 #200 #400\n",
        "max_iters = 15 #10 #5 # 30\n",
        "low = 5\n",
        "high = 10\n",
        "test_iterations = list(range(low, high + 1))"
      ]
    },
    {
      "cell_type": "markdown",
      "id": "500802cb-f8fb-4693-a27f-bcb39c29bc59",
      "metadata": {
        "id": "500802cb-f8fb-4693-a27f-bcb39c29bc59"
      },
      "source": [
        "#### Main 1. Initialize Data and Network"
      ]
    },
    {
      "cell_type": "code",
      "execution_count": null,
      "id": "9e7d29a9-812d-43bd-9083-0592c2e7f6fb",
      "metadata": {
        "id": "9e7d29a9-812d-43bd-9083-0592c2e7f6fb"
      },
      "outputs": [],
      "source": [
        "device = \"cuda\" if torch.cuda.is_available() else \"cpu\"\n",
        "\n",
        "torch.backends.cudnn.benchmark = True\n",
        "\n",
        "loaders = prepare_custom_loader(train_batch_size= train_batch_size,\n",
        "                                test_batch_size= test_batch_size,\n",
        "                                train_data= train_data,\n",
        "                                test_data= test_data)\n",
        "    \n",
        "'''    \n",
        "net, start_epoch, optimizer_state_dict = load_model_from_checkpoint(\"custom\",\n",
        "                                                                    \"feedforward_net_recall_1d\",\n",
        "                                                                   device)\n",
        "'''\n",
        "\n",
        "'''\n",
        "# FeedForwardNet1D(block = BasicBlock,\n",
        "                   num_blocks = [2],\n",
        "                   width = 5,         # analogous to conv1d out_channels\n",
        "                   recall=True,\n",
        "                   max_iters=5,       # default is 8\n",
        "                   group_norm = False # default is False\n",
        "                   )\n",
        "'''\n",
        "# In the prefix sums training, the parameters were width = 400 and max_iters = 30.\n",
        "net = dt_net_recall_1d(width=width, max_iters=max_iters)\n",
        "#net = feedforward_net_recall_1d(width=width, max_iters=max_iters)\n",
        "\n",
        "if torch.cuda.is_available():\n",
        "    net.cuda()\n",
        "\n",
        "    \n",
        "start_epoch = 0"
      ]
    },
    {
      "cell_type": "markdown",
      "id": "dbabed0d-f8f1-41a7-a5cf-46f927bc800b",
      "metadata": {
        "tags": [],
        "id": "dbabed0d-f8f1-41a7-a5cf-46f927bc800b"
      },
      "source": [
        "#### Main 2. Initialize optimizer and TrainingSetup"
      ]
    },
    {
      "cell_type": "code",
      "execution_count": null,
      "id": "26b1d324-8951-4e27-8049-62f7420a5ddb",
      "metadata": {
        "id": "26b1d324-8951-4e27-8049-62f7420a5ddb"
      },
      "outputs": [],
      "source": [
        "base_params = [p for n, p in net.named_parameters()]\n",
        "recur_params = []\n",
        "all_params = [{\"params\": base_params}]\n",
        "\n",
        "if optimizer_name == \"adam\":\n",
        "    optimizer = Adam(all_params, lr=lr, weight_decay=2e-4)\n",
        "elif optimizer_name == \"adamw\":\n",
        "    optimizer = AdamW(all_params, lr=lr, weight_decay=2e-4)\n",
        "\n",
        "warmup_scheduler = ExponentialWarmup(optimizer, warmup_period=warmup_period)\n",
        "\n",
        "\n",
        "if lr_decay.lower() == \"step\":\n",
        "    lr_scheduler = MultiStepLR(optimizer, milestones=lr_schedule,\n",
        "                               gamma=lr_factor, last_epoch=-1)\n",
        "elif lr_decay.lower() == \"cosine\":\n",
        "    lr_scheduler = CosineAnnealingLR(optimizer, epochs, eta_min=0, last_epoch=-1, verbose=False)"
      ]
    },
    {
      "cell_type": "markdown",
      "id": "cb3d9a74-28f4-44d2-9fc3-8c09f1dd427a",
      "metadata": {
        "id": "cb3d9a74-28f4-44d2-9fc3-8c09f1dd427a"
      },
      "source": [
        "#### Main 3. Training"
      ]
    },
    {
      "cell_type": "markdown",
      "source": [
        "##### Helper Functions"
      ],
      "metadata": {
        "id": "4E5rNCp8Nyw5"
      },
      "id": "4E5rNCp8Nyw5"
    },
    {
      "cell_type": "code",
      "execution_count": null,
      "id": "3a3c4fc2-ea0c-4e75-8853-97b1fbfe9e5e",
      "metadata": {
        "id": "3a3c4fc2-ea0c-4e75-8853-97b1fbfe9e5e"
      },
      "outputs": [],
      "source": [
        "from random import randrange\n",
        "\n",
        "def get_output_for_prog_loss(inputs, max_iters, net):\n",
        "    # get features from n iterations to use as input\n",
        "    n = randrange(0, max_iters)\n",
        "\n",
        "    # do k iterations using intermediate features as input\n",
        "    k = randrange(1, max_iters - n + 1)\n",
        "\n",
        "    if n > 0:\n",
        "        _, interim_thought = net(inputs, iters_to_do=n)\n",
        "        interim_thought = interim_thought.detach()\n",
        "    else:\n",
        "        interim_thought = None\n",
        "\n",
        "    outputs, _ = net(inputs, iters_elapsed=n, iters_to_do=k, interim_thought=interim_thought)\n",
        "    return outputs, k\n",
        "\n",
        "\n",
        "def get_predicted(inputs, outputs, problem):\n",
        "    outputs = outputs.clone()\n",
        "    predicted = outputs.argmax(1)\n",
        "    predicted = predicted.view(predicted.size(0), -1)\n",
        "\n",
        "    return predicted"
      ]
    },
    {
      "cell_type": "code",
      "execution_count": null,
      "id": "d214d802-b90f-4e2a-9d42-68b8f52fd508",
      "metadata": {
        "id": "d214d802-b90f-4e2a-9d42-68b8f52fd508"
      },
      "outputs": [],
      "source": [
        "def train():\n",
        "\n",
        "    trainloader = loaders[\"train\"]\n",
        "    net.train()\n",
        "    k = 0\n",
        "    criterion = torch.nn.CrossEntropyLoss(reduction=\"none\")\n",
        "\n",
        "    train_loss = 0 # total loss for all batches\n",
        "    correct = 0\n",
        "    total = 0 \n",
        "    \n",
        "    \n",
        "    # For each batch in this epoch:\n",
        "    for batch_idx, (inputs, targets) in enumerate(tqdm(trainloader, leave=False)):\n",
        "        \n",
        "        # Get the (input data, ideal output) pair\n",
        "        inputs, targets = inputs.to(device), targets.to(device).long()\n",
        "        targets = targets.view(targets.size(0), -1)\n",
        "\n",
        "        optimizer.zero_grad()\n",
        "\n",
        "        # get fully unrolled loss if alpha is not 1 (if it is 1, this loss term is not used\n",
        "        # so we save time by setting it equal to 0).\n",
        "        \n",
        "        # Get the output from the net\n",
        "        outputs_max_iters, _ = net(inputs, iters_to_do=max_iters)\n",
        "        \n",
        "        if alpha != 1:\n",
        "            outputs_max_iters = outputs_max_iters.view(outputs_max_iters.size(0),\n",
        "                                                       outputs_max_iters.size(1), -1)\n",
        "            loss_max_iters = criterion(outputs_max_iters, targets)\n",
        "        else:\n",
        "            # Instantiate the loss_max_iters matrix. If alpha == 1, it will be zero.\n",
        "            loss_max_iters = torch.zeros_like(targets).float()\n",
        "            \n",
        "        # get progressive loss if alpha is not 0 (if it is 0, this loss term is not used\n",
        "        # so we save time by setting it equal to 0).\n",
        "        if alpha != 0:\n",
        "            # Get a new output using interim thoughts\n",
        "            outputs, k = get_output_for_prog_loss(inputs, max_iters, net)\n",
        "            outputs = outputs.view(outputs.size(0), outputs.size(1), -1)\n",
        "            # Calculate the Cross-Entropy loss between the outputs and targets.\n",
        "            # loss_progressive is a (m x l) Tensor, where m = batch size and l = input length.\n",
        "            loss_progressive = criterion(outputs, targets)            \n",
        "        else:\n",
        "            loss_progressive = torch.zeros_like(targets).float()\n",
        "\n",
        "        \n",
        "        # Calculate the mean loss_max_iters. If alpha == 1, it will be zero.\n",
        "        loss_max_iters_mean = loss_max_iters.mean()\n",
        "        # Calcualte the mean loss_progressive.\n",
        "        loss_progressive_mean = loss_progressive.mean()\n",
        "        \n",
        "        # Calculate loss. If alpha == 1, then loss = loss_progressive_mean (cross-entropy).\n",
        "        loss = (1 - alpha) * loss_max_iters_mean + alpha * loss_progressive_mean\n",
        "        # Backpropagation\n",
        "        loss.backward()\n",
        "\n",
        "        # Clipping and gradient descent\n",
        "        if clip is not None:\n",
        "            torch.nn.utils.clip_grad_norm_(net.parameters(), clip)\n",
        "        optimizer.step()\n",
        "        \n",
        "        \n",
        "        # Add the loss from this batch\n",
        "        train_loss += loss.item()\n",
        "        # Get the predicted labels from outputs_max_iters.\n",
        "        # The outputs are (m x 2 x l) Tensors, where m = batch size and l = input and output length.\n",
        "        # Thus, the argmax must be taken among dimension 1, so as to get the labels in a (m x l) Tensor.\n",
        "        predicted = get_predicted(inputs, outputs_max_iters, problem)\n",
        "        # Calculate the number of samples in the batch where the model predicted all values of the output correctly.\n",
        "        correct += torch.amin(predicted == targets, dim=[-1]).sum().item()\n",
        "        # Calculate the number of samples in the batch.\n",
        "        total += targets.size(0)\n",
        "    \n",
        "    \n",
        "    # Divide the training loss by the number of batches.\n",
        "    # (the number of batches should be a constant for all epochs)\n",
        "    train_loss /= (batch_idx + 1)\n",
        "    acc = 100.0 * correct / total\n",
        "\n",
        "    lr_scheduler.step()\n",
        "    warmup_scheduler.dampen()\n",
        "\n",
        "    return train_loss, acc"
      ]
    },
    {
      "cell_type": "code",
      "execution_count": null,
      "id": "a090c2dd-7b24-4714-903f-96c0f411162d",
      "metadata": {
        "id": "a090c2dd-7b24-4714-903f-96c0f411162d"
      },
      "outputs": [],
      "source": [
        "def test_default(testloader, iters):\n",
        "\n",
        "    net.eval()\n",
        "    corrects = torch.zeros(max(iters))\n",
        "    total = 0\n",
        "\n",
        "    with torch.no_grad():\n",
        "        for inputs, targets in tqdm(testloader, leave=False):\n",
        "            inputs, targets = inputs.to(device), targets.to(device)\n",
        "\n",
        "            all_outputs = net(inputs, iters_to_do=max(iters))\n",
        "\n",
        "            for i in range(all_outputs.size(1)):\n",
        "                outputs = all_outputs[:, i]\n",
        "                predicted = get_predicted(inputs, outputs, problem)\n",
        "                targets = targets.view(targets.size(0), -1)\n",
        "                corrects[i] += torch.amin(predicted == targets, dim=[1]).sum().item()\n",
        "\n",
        "            total += targets.size(0)\n",
        "\n",
        "    accuracy = 100.0 * corrects / total\n",
        "    ret_acc = {}\n",
        "    for ite in iters:\n",
        "        ret_acc[ite] = accuracy[ite-1].item()\n",
        "        \n",
        "    \n",
        "    return ret_acc\n",
        "\n",
        "\n",
        "def test(loaders, iters):\n",
        "    accs = []\n",
        "    for loader in loaders:\n",
        "        accuracy = test_default(loader, iters)\n",
        "        accs.append(accuracy)\n",
        "    return accs"
      ]
    },
    {
      "cell_type": "markdown",
      "source": [
        "##### Training Function"
      ],
      "metadata": {
        "id": "Tbk2yor4N3O7"
      },
      "id": "Tbk2yor4N3O7"
    },
    {
      "cell_type": "code",
      "execution_count": null,
      "id": "66f34670-07f7-46cb-87ff-ebe5cd6f3e25",
      "metadata": {
        "colab": {
          "base_uri": "https://localhost:8080/"
        },
        "id": "66f34670-07f7-46cb-87ff-ebe5cd6f3e25",
        "outputId": "d1c6fb9b-bc75-4940-f62c-ae6fa8ba2bb9"
      },
      "outputs": [
        {
          "output_type": "stream",
          "name": "stderr",
          "text": [
            ""
          ]
        },
        {
          "output_type": "stream",
          "name": "stdout",
          "text": [
            "Training loss at epoch 0: 0.6765937745571137\n",
            "Training accuracy at epoch 0: 0.6875 %\n",
            "Val accuracy at epoch 0: 0.550000011920929 %\n"
          ]
        },
        {
          "output_type": "stream",
          "name": "stderr",
          "text": [
            ""
          ]
        },
        {
          "output_type": "stream",
          "name": "stdout",
          "text": [
            "Training loss at epoch 1: 0.5458389773964882\n",
            "Training accuracy at epoch 1: 1.05 %\n",
            "Val accuracy at epoch 1: 1.600000023841858 %\n"
          ]
        },
        {
          "output_type": "stream",
          "name": "stderr",
          "text": [
            ""
          ]
        },
        {
          "output_type": "stream",
          "name": "stdout",
          "text": [
            "Training loss at epoch 2: 0.5122340228408575\n",
            "Training accuracy at epoch 2: 1.7375 %\n",
            "Val accuracy at epoch 2: 3.549999952316284 %\n"
          ]
        },
        {
          "output_type": "stream",
          "name": "stderr",
          "text": [
            ""
          ]
        },
        {
          "output_type": "stream",
          "name": "stdout",
          "text": [
            "Training loss at epoch 3: 0.671327679976821\n",
            "Training accuracy at epoch 3: 1.925 %\n",
            "Val accuracy at epoch 3: 3.1500000953674316 %\n"
          ]
        },
        {
          "output_type": "stream",
          "name": "stderr",
          "text": [
            ""
          ]
        },
        {
          "output_type": "stream",
          "name": "stdout",
          "text": [
            "Training loss at epoch 4: 5.221056091785431\n",
            "Training accuracy at epoch 4: 2.2375 %\n",
            "Val accuracy at epoch 4: 3.25 %\n"
          ]
        },
        {
          "output_type": "stream",
          "name": "stderr",
          "text": [
            ""
          ]
        },
        {
          "output_type": "stream",
          "name": "stdout",
          "text": [
            "Training loss at epoch 5: 0.4029355779290199\n",
            "Training accuracy at epoch 5: 5.1 %\n",
            "Val accuracy at epoch 5: 4.849999904632568 %\n"
          ]
        },
        {
          "output_type": "stream",
          "name": "stderr",
          "text": [
            ""
          ]
        },
        {
          "output_type": "stream",
          "name": "stdout",
          "text": [
            "Training loss at epoch 6: 0.9923521194607019\n",
            "Training accuracy at epoch 6: 7.575 %\n",
            "Val accuracy at epoch 6: 4.650000095367432 %\n"
          ]
        },
        {
          "output_type": "stream",
          "name": "stderr",
          "text": [
            ""
          ]
        },
        {
          "output_type": "stream",
          "name": "stdout",
          "text": [
            "Training loss at epoch 7: 0.27362811993807556\n",
            "Training accuracy at epoch 7: 12.45 %\n",
            "Val accuracy at epoch 7: 4.599999904632568 %\n"
          ]
        },
        {
          "output_type": "stream",
          "name": "stderr",
          "text": [
            ""
          ]
        },
        {
          "output_type": "stream",
          "name": "stdout",
          "text": [
            "Training loss at epoch 8: 0.3225976384244859\n",
            "Training accuracy at epoch 8: 12.5125 %\n",
            "Val accuracy at epoch 8: 13.699999809265137 %\n"
          ]
        },
        {
          "output_type": "stream",
          "name": "stderr",
          "text": [
            ""
          ]
        },
        {
          "output_type": "stream",
          "name": "stdout",
          "text": [
            "Training loss at epoch 9: 0.3000276699662209\n",
            "Training accuracy at epoch 9: 10.5375 %\n",
            "Val accuracy at epoch 9: 9.100000381469727 %\n"
          ]
        },
        {
          "output_type": "stream",
          "name": "stderr",
          "text": [
            ""
          ]
        },
        {
          "output_type": "stream",
          "name": "stdout",
          "text": [
            "Training loss at epoch 10: 0.22150981612503529\n",
            "Training accuracy at epoch 10: 16.75 %\n",
            "Val accuracy at epoch 10: 20.75 %\n"
          ]
        },
        {
          "output_type": "stream",
          "name": "stderr",
          "text": [
            ""
          ]
        },
        {
          "output_type": "stream",
          "name": "stdout",
          "text": [
            "Training loss at epoch 11: 0.2139340686611831\n",
            "Training accuracy at epoch 11: 18.0875 %\n",
            "Val accuracy at epoch 11: 21.25 %\n"
          ]
        },
        {
          "output_type": "stream",
          "name": "stderr",
          "text": [
            ""
          ]
        },
        {
          "output_type": "stream",
          "name": "stdout",
          "text": [
            "Training loss at epoch 12: 0.19209968410432338\n",
            "Training accuracy at epoch 12: 21.3625 %\n",
            "Val accuracy at epoch 12: 14.949999809265137 %\n"
          ]
        },
        {
          "output_type": "stream",
          "name": "stderr",
          "text": [
            ""
          ]
        },
        {
          "output_type": "stream",
          "name": "stdout",
          "text": [
            "Training loss at epoch 13: 0.1998593846336007\n",
            "Training accuracy at epoch 13: 21.1 %\n",
            "Val accuracy at epoch 13: 33.75 %\n"
          ]
        },
        {
          "output_type": "stream",
          "name": "stderr",
          "text": [
            ""
          ]
        },
        {
          "output_type": "stream",
          "name": "stdout",
          "text": [
            "Training loss at epoch 14: 0.16924521094188094\n",
            "Training accuracy at epoch 14: 27.775 %\n",
            "Val accuracy at epoch 14: 34.75 %\n"
          ]
        },
        {
          "output_type": "stream",
          "name": "stderr",
          "text": [
            ""
          ]
        },
        {
          "output_type": "stream",
          "name": "stdout",
          "text": [
            "Training loss at epoch 15: 0.18739646612666547\n",
            "Training accuracy at epoch 15: 25.65 %\n",
            "Val accuracy at epoch 15: 33.25 %\n"
          ]
        },
        {
          "output_type": "stream",
          "name": "stderr",
          "text": [
            ""
          ]
        },
        {
          "output_type": "stream",
          "name": "stdout",
          "text": [
            "Training loss at epoch 16: 0.2425218576565385\n",
            "Training accuracy at epoch 16: 26.1 %\n",
            "Val accuracy at epoch 16: 33.45000076293945 %\n"
          ]
        },
        {
          "output_type": "stream",
          "name": "stderr",
          "text": [
            ""
          ]
        },
        {
          "output_type": "stream",
          "name": "stdout",
          "text": [
            "Training loss at epoch 17: 0.15478154537267982\n",
            "Training accuracy at epoch 17: 31.4875 %\n",
            "Val accuracy at epoch 17: 36.70000076293945 %\n"
          ]
        },
        {
          "output_type": "stream",
          "name": "stderr",
          "text": [
            ""
          ]
        },
        {
          "output_type": "stream",
          "name": "stdout",
          "text": [
            "Training loss at epoch 18: 0.14533013980835677\n",
            "Training accuracy at epoch 18: 32.9125 %\n",
            "Val accuracy at epoch 18: 45.900001525878906 %\n"
          ]
        },
        {
          "output_type": "stream",
          "name": "stderr",
          "text": [
            ""
          ]
        },
        {
          "output_type": "stream",
          "name": "stdout",
          "text": [
            "Training loss at epoch 19: 0.12615245068445802\n",
            "Training accuracy at epoch 19: 35.6 %\n",
            "Val accuracy at epoch 19: 34.70000076293945 %\n"
          ]
        },
        {
          "output_type": "stream",
          "name": "stderr",
          "text": [
            ""
          ]
        },
        {
          "output_type": "stream",
          "name": "stdout",
          "text": [
            "Training loss at epoch 20: 0.1218386469874531\n",
            "Training accuracy at epoch 20: 38.7875 %\n",
            "Val accuracy at epoch 20: 44.29999923706055 %\n"
          ]
        },
        {
          "output_type": "stream",
          "name": "stderr",
          "text": [
            ""
          ]
        },
        {
          "output_type": "stream",
          "name": "stdout",
          "text": [
            "Training loss at epoch 21: 0.150220948131755\n",
            "Training accuracy at epoch 21: 33.925 %\n",
            "Val accuracy at epoch 21: 53.900001525878906 %\n"
          ]
        },
        {
          "output_type": "stream",
          "name": "stderr",
          "text": [
            ""
          ]
        },
        {
          "output_type": "stream",
          "name": "stdout",
          "text": [
            "Training loss at epoch 22: 0.12116643781773746\n",
            "Training accuracy at epoch 22: 39.1875 %\n",
            "Val accuracy at epoch 22: 35.5 %\n"
          ]
        },
        {
          "output_type": "stream",
          "name": "stderr",
          "text": [
            ""
          ]
        },
        {
          "output_type": "stream",
          "name": "stdout",
          "text": [
            "Training loss at epoch 23: 0.13520306763239204\n",
            "Training accuracy at epoch 23: 35.325 %\n",
            "Val accuracy at epoch 23: 42.20000076293945 %\n"
          ]
        },
        {
          "output_type": "stream",
          "name": "stderr",
          "text": [
            ""
          ]
        },
        {
          "output_type": "stream",
          "name": "stdout",
          "text": [
            "Training loss at epoch 24: 0.12973831170238553\n",
            "Training accuracy at epoch 24: 41.15 %\n",
            "Val accuracy at epoch 24: 29.350000381469727 %\n"
          ]
        },
        {
          "output_type": "stream",
          "name": "stderr",
          "text": [
            ""
          ]
        },
        {
          "output_type": "stream",
          "name": "stdout",
          "text": [
            "Training loss at epoch 25: 0.11833578632213175\n",
            "Training accuracy at epoch 25: 39.5125 %\n",
            "Val accuracy at epoch 25: 24.5 %\n"
          ]
        },
        {
          "output_type": "stream",
          "name": "stderr",
          "text": [
            ""
          ]
        },
        {
          "output_type": "stream",
          "name": "stdout",
          "text": [
            "Training loss at epoch 26: 0.1039896299596876\n",
            "Training accuracy at epoch 26: 40.925 %\n",
            "Val accuracy at epoch 26: 61.29999923706055 %\n"
          ]
        },
        {
          "output_type": "stream",
          "name": "stderr",
          "text": [
            ""
          ]
        },
        {
          "output_type": "stream",
          "name": "stdout",
          "text": [
            "Training loss at epoch 27: 0.13923848196864128\n",
            "Training accuracy at epoch 27: 36.4375 %\n",
            "Val accuracy at epoch 27: 42.400001525878906 %\n"
          ]
        },
        {
          "output_type": "stream",
          "name": "stderr",
          "text": [
            ""
          ]
        },
        {
          "output_type": "stream",
          "name": "stdout",
          "text": [
            "Training loss at epoch 28: 0.10467323251068592\n",
            "Training accuracy at epoch 28: 47.025 %\n",
            "Val accuracy at epoch 28: 39.20000076293945 %\n"
          ]
        },
        {
          "output_type": "stream",
          "name": "stderr",
          "text": [
            ""
          ]
        },
        {
          "output_type": "stream",
          "name": "stdout",
          "text": [
            "Training loss at epoch 29: 0.11732697878032923\n",
            "Training accuracy at epoch 29: 38.4 %\n",
            "Val accuracy at epoch 29: 41.25 %\n"
          ]
        },
        {
          "output_type": "stream",
          "name": "stderr",
          "text": [
            ""
          ]
        },
        {
          "output_type": "stream",
          "name": "stdout",
          "text": [
            "Training loss at epoch 30: 0.09178148899227381\n",
            "Training accuracy at epoch 30: 43.8375 %\n",
            "Val accuracy at epoch 30: 37.75 %\n"
          ]
        },
        {
          "output_type": "stream",
          "name": "stderr",
          "text": [
            ""
          ]
        },
        {
          "output_type": "stream",
          "name": "stdout",
          "text": [
            "Training loss at epoch 31: 0.10243732002563774\n",
            "Training accuracy at epoch 31: 41.3875 %\n",
            "Val accuracy at epoch 31: 34.400001525878906 %\n"
          ]
        },
        {
          "output_type": "stream",
          "name": "stderr",
          "text": [
            ""
          ]
        },
        {
          "output_type": "stream",
          "name": "stdout",
          "text": [
            "Training loss at epoch 32: 0.09913258566521108\n",
            "Training accuracy at epoch 32: 42.5875 %\n",
            "Val accuracy at epoch 32: 43.650001525878906 %\n"
          ]
        },
        {
          "output_type": "stream",
          "name": "stderr",
          "text": [
            ""
          ]
        },
        {
          "output_type": "stream",
          "name": "stdout",
          "text": [
            "Training loss at epoch 33: 0.11412010141648352\n",
            "Training accuracy at epoch 33: 39.5125 %\n",
            "Val accuracy at epoch 33: 52.849998474121094 %\n"
          ]
        },
        {
          "output_type": "stream",
          "name": "stderr",
          "text": [
            ""
          ]
        },
        {
          "output_type": "stream",
          "name": "stdout",
          "text": [
            "Training loss at epoch 34: 0.07913375315256417\n",
            "Training accuracy at epoch 34: 50.3875 %\n",
            "Val accuracy at epoch 34: 27.25 %\n"
          ]
        },
        {
          "output_type": "stream",
          "name": "stderr",
          "text": [
            ""
          ]
        },
        {
          "output_type": "stream",
          "name": "stdout",
          "text": [
            "Training loss at epoch 35: 0.08414907092228532\n",
            "Training accuracy at epoch 35: 46.775 %\n",
            "Val accuracy at epoch 35: 49.0 %\n"
          ]
        },
        {
          "output_type": "stream",
          "name": "stderr",
          "text": [
            ""
          ]
        },
        {
          "output_type": "stream",
          "name": "stdout",
          "text": [
            "Training loss at epoch 36: 0.09151731238234788\n",
            "Training accuracy at epoch 36: 53.3625 %\n",
            "Val accuracy at epoch 36: 41.45000076293945 %\n"
          ]
        },
        {
          "output_type": "stream",
          "name": "stderr",
          "text": [
            ""
          ]
        },
        {
          "output_type": "stream",
          "name": "stdout",
          "text": [
            "Training loss at epoch 37: 0.08740658680908382\n",
            "Training accuracy at epoch 37: 41.8875 %\n",
            "Val accuracy at epoch 37: 33.650001525878906 %\n"
          ]
        },
        {
          "output_type": "stream",
          "name": "stderr",
          "text": [
            ""
          ]
        },
        {
          "output_type": "stream",
          "name": "stdout",
          "text": [
            "Training loss at epoch 38: 0.09987448556348681\n",
            "Training accuracy at epoch 38: 44.1875 %\n",
            "Val accuracy at epoch 38: 40.54999923706055 %\n"
          ]
        },
        {
          "output_type": "stream",
          "name": "stderr",
          "text": [
            ""
          ]
        },
        {
          "output_type": "stream",
          "name": "stdout",
          "text": [
            "Training loss at epoch 39: 0.08323324960656464\n",
            "Training accuracy at epoch 39: 45.4875 %\n",
            "Val accuracy at epoch 39: 31.049999237060547 %\n"
          ]
        },
        {
          "output_type": "stream",
          "name": "stderr",
          "text": [
            ""
          ]
        },
        {
          "output_type": "stream",
          "name": "stdout",
          "text": [
            "Training loss at epoch 40: 0.10795601932331919\n",
            "Training accuracy at epoch 40: 43.0125 %\n",
            "Val accuracy at epoch 40: 14.850000381469727 %\n"
          ]
        },
        {
          "output_type": "stream",
          "name": "stderr",
          "text": [
            ""
          ]
        },
        {
          "output_type": "stream",
          "name": "stdout",
          "text": [
            "Training loss at epoch 41: 0.11893736622296273\n",
            "Training accuracy at epoch 41: 37.0875 %\n",
            "Val accuracy at epoch 41: 37.400001525878906 %\n"
          ]
        },
        {
          "output_type": "stream",
          "name": "stderr",
          "text": [
            ""
          ]
        },
        {
          "output_type": "stream",
          "name": "stdout",
          "text": [
            "Training loss at epoch 42: 0.10180251346901059\n",
            "Training accuracy at epoch 42: 46.25 %\n",
            "Val accuracy at epoch 42: 37.150001525878906 %\n"
          ]
        },
        {
          "output_type": "stream",
          "name": "stderr",
          "text": [
            ""
          ]
        },
        {
          "output_type": "stream",
          "name": "stdout",
          "text": [
            "Training loss at epoch 43: 0.08508922862820327\n",
            "Training accuracy at epoch 43: 46.4625 %\n",
            "Val accuracy at epoch 43: 47.75 %\n"
          ]
        },
        {
          "output_type": "stream",
          "name": "stderr",
          "text": [
            ""
          ]
        },
        {
          "output_type": "stream",
          "name": "stdout",
          "text": [
            "Training loss at epoch 44: 0.08297685640864075\n",
            "Training accuracy at epoch 44: 49.2 %\n",
            "Val accuracy at epoch 44: 45.04999923706055 %\n"
          ]
        },
        {
          "output_type": "stream",
          "name": "stderr",
          "text": [
            ""
          ]
        },
        {
          "output_type": "stream",
          "name": "stdout",
          "text": [
            "Training loss at epoch 45: 0.07395500482525677\n",
            "Training accuracy at epoch 45: 51.3125 %\n",
            "Val accuracy at epoch 45: 29.600000381469727 %\n"
          ]
        },
        {
          "output_type": "stream",
          "name": "stderr",
          "text": [
            ""
          ]
        },
        {
          "output_type": "stream",
          "name": "stdout",
          "text": [
            "Training loss at epoch 46: 0.08263560237828642\n",
            "Training accuracy at epoch 46: 47.6375 %\n",
            "Val accuracy at epoch 46: 31.899999618530273 %\n"
          ]
        },
        {
          "output_type": "stream",
          "name": "stderr",
          "text": [
            ""
          ]
        },
        {
          "output_type": "stream",
          "name": "stdout",
          "text": [
            "Training loss at epoch 47: 0.11383420603815467\n",
            "Training accuracy at epoch 47: 46.4625 %\n",
            "Val accuracy at epoch 47: 42.95000076293945 %\n"
          ]
        },
        {
          "output_type": "stream",
          "name": "stderr",
          "text": [
            ""
          ]
        },
        {
          "output_type": "stream",
          "name": "stdout",
          "text": [
            "Training loss at epoch 48: 0.08647595210932195\n",
            "Training accuracy at epoch 48: 51.5375 %\n",
            "Val accuracy at epoch 48: 32.79999923706055 %\n"
          ]
        },
        {
          "output_type": "stream",
          "name": "stderr",
          "text": [
            ""
          ]
        },
        {
          "output_type": "stream",
          "name": "stdout",
          "text": [
            "Training loss at epoch 49: 0.07989635453559459\n",
            "Training accuracy at epoch 49: 51.225 %\n",
            "Val accuracy at epoch 49: 50.650001525878906 %\n"
          ]
        },
        {
          "output_type": "stream",
          "name": "stderr",
          "text": [
            ""
          ]
        },
        {
          "output_type": "stream",
          "name": "stdout",
          "text": [
            "Training loss at epoch 50: 0.08342279866337776\n",
            "Training accuracy at epoch 50: 47.625 %\n",
            "Val accuracy at epoch 50: 58.900001525878906 %\n"
          ]
        },
        {
          "output_type": "stream",
          "name": "stderr",
          "text": [
            ""
          ]
        },
        {
          "output_type": "stream",
          "name": "stdout",
          "text": [
            "Training loss at epoch 51: 0.08848062395118177\n",
            "Training accuracy at epoch 51: 49.275 %\n",
            "Val accuracy at epoch 51: 34.25 %\n"
          ]
        },
        {
          "output_type": "stream",
          "name": "stderr",
          "text": [
            ""
          ]
        },
        {
          "output_type": "stream",
          "name": "stdout",
          "text": [
            "Training loss at epoch 52: 0.07979568650480359\n",
            "Training accuracy at epoch 52: 51.7375 %\n",
            "Val accuracy at epoch 52: 43.349998474121094 %\n"
          ]
        },
        {
          "output_type": "stream",
          "name": "stderr",
          "text": [
            ""
          ]
        },
        {
          "output_type": "stream",
          "name": "stdout",
          "text": [
            "Training loss at epoch 53: 0.07199378681834787\n",
            "Training accuracy at epoch 53: 51.2375 %\n",
            "Val accuracy at epoch 53: 42.099998474121094 %\n"
          ]
        },
        {
          "output_type": "stream",
          "name": "stderr",
          "text": [
            ""
          ]
        },
        {
          "output_type": "stream",
          "name": "stdout",
          "text": [
            "Training loss at epoch 54: 0.07516041216440499\n",
            "Training accuracy at epoch 54: 51.3875 %\n",
            "Val accuracy at epoch 54: 49.75 %\n"
          ]
        },
        {
          "output_type": "stream",
          "name": "stderr",
          "text": [
            ""
          ]
        },
        {
          "output_type": "stream",
          "name": "stdout",
          "text": [
            "Training loss at epoch 55: 0.07532027761917562\n",
            "Training accuracy at epoch 55: 55.4375 %\n",
            "Val accuracy at epoch 55: 58.650001525878906 %\n"
          ]
        },
        {
          "output_type": "stream",
          "name": "stderr",
          "text": [
            ""
          ]
        },
        {
          "output_type": "stream",
          "name": "stdout",
          "text": [
            "Training loss at epoch 56: 0.07703651757910848\n",
            "Training accuracy at epoch 56: 50.4875 %\n",
            "Val accuracy at epoch 56: 43.150001525878906 %\n"
          ]
        },
        {
          "output_type": "stream",
          "name": "stderr",
          "text": [
            ""
          ]
        },
        {
          "output_type": "stream",
          "name": "stdout",
          "text": [
            "Training loss at epoch 57: 0.09265201734378933\n",
            "Training accuracy at epoch 57: 50.0 %\n",
            "Val accuracy at epoch 57: 53.95000076293945 %\n"
          ]
        },
        {
          "output_type": "stream",
          "name": "stderr",
          "text": [
            ""
          ]
        },
        {
          "output_type": "stream",
          "name": "stdout",
          "text": [
            "Training loss at epoch 58: 0.08646133940201253\n",
            "Training accuracy at epoch 58: 45.35 %\n",
            "Val accuracy at epoch 58: 48.20000076293945 %\n"
          ]
        },
        {
          "output_type": "stream",
          "name": "stderr",
          "text": [
            ""
          ]
        },
        {
          "output_type": "stream",
          "name": "stdout",
          "text": [
            "Training loss at epoch 59: 0.07323468369431793\n",
            "Training accuracy at epoch 59: 48.4 %\n",
            "Val accuracy at epoch 59: 35.70000076293945 %\n"
          ]
        },
        {
          "output_type": "stream",
          "name": "stderr",
          "text": [
            ""
          ]
        },
        {
          "output_type": "stream",
          "name": "stdout",
          "text": [
            "Training loss at epoch 60: 0.0414125552168116\n",
            "Training accuracy at epoch 60: 72.4 %\n",
            "Val accuracy at epoch 60: 81.19999694824219 %\n"
          ]
        },
        {
          "output_type": "stream",
          "name": "stderr",
          "text": [
            ""
          ]
        },
        {
          "output_type": "stream",
          "name": "stdout",
          "text": [
            "Training loss at epoch 61: 0.043142072844784704\n",
            "Training accuracy at epoch 61: 79.725 %\n",
            "Val accuracy at epoch 61: 81.25 %\n"
          ]
        },
        {
          "output_type": "stream",
          "name": "stderr",
          "text": [
            ""
          ]
        },
        {
          "output_type": "stream",
          "name": "stdout",
          "text": [
            "Training loss at epoch 62: 0.041990909317974\n",
            "Training accuracy at epoch 62: 77.35 %\n",
            "Val accuracy at epoch 62: 81.05000305175781 %\n"
          ]
        },
        {
          "output_type": "stream",
          "name": "stderr",
          "text": [
            ""
          ]
        },
        {
          "output_type": "stream",
          "name": "stdout",
          "text": [
            "Training loss at epoch 63: 0.03686346341855824\n",
            "Training accuracy at epoch 63: 81.0375 %\n",
            "Val accuracy at epoch 63: 79.4000015258789 %\n"
          ]
        },
        {
          "output_type": "stream",
          "name": "stderr",
          "text": [
            ""
          ]
        },
        {
          "output_type": "stream",
          "name": "stdout",
          "text": [
            "Training loss at epoch 64: 0.039459892688319086\n",
            "Training accuracy at epoch 64: 80.7625 %\n",
            "Val accuracy at epoch 64: 80.8499984741211 %\n"
          ]
        },
        {
          "output_type": "stream",
          "name": "stderr",
          "text": [
            ""
          ]
        },
        {
          "output_type": "stream",
          "name": "stdout",
          "text": [
            "Training loss at epoch 65: 0.02962446209276095\n",
            "Training accuracy at epoch 65: 82.0 %\n",
            "Val accuracy at epoch 65: 81.05000305175781 %\n"
          ]
        },
        {
          "output_type": "stream",
          "name": "stderr",
          "text": [
            ""
          ]
        },
        {
          "output_type": "stream",
          "name": "stdout",
          "text": [
            "Training loss at epoch 66: 0.019688530103303493\n",
            "Training accuracy at epoch 66: 80.75 %\n",
            "Val accuracy at epoch 66: 79.9000015258789 %\n"
          ]
        },
        {
          "output_type": "stream",
          "name": "stderr",
          "text": [
            ""
          ]
        },
        {
          "output_type": "stream",
          "name": "stdout",
          "text": [
            "Training loss at epoch 67: 0.0309860133449547\n",
            "Training accuracy at epoch 67: 81.2 %\n",
            "Val accuracy at epoch 67: 75.44999694824219 %\n"
          ]
        },
        {
          "output_type": "stream",
          "name": "stderr",
          "text": [
            ""
          ]
        },
        {
          "output_type": "stream",
          "name": "stdout",
          "text": [
            "Training loss at epoch 68: 0.03440477764233947\n",
            "Training accuracy at epoch 68: 80.05 %\n",
            "Val accuracy at epoch 68: 83.80000305175781 %\n"
          ]
        },
        {
          "output_type": "stream",
          "name": "stderr",
          "text": [
            ""
          ]
        },
        {
          "output_type": "stream",
          "name": "stdout",
          "text": [
            "Training loss at epoch 69: 0.0286774959997274\n",
            "Training accuracy at epoch 69: 83.575 %\n",
            "Val accuracy at epoch 69: 84.1500015258789 %\n"
          ]
        },
        {
          "output_type": "stream",
          "name": "stderr",
          "text": [
            ""
          ]
        },
        {
          "output_type": "stream",
          "name": "stdout",
          "text": [
            "Training loss at epoch 70: 0.02258496799040586\n",
            "Training accuracy at epoch 70: 83.45 %\n",
            "Val accuracy at epoch 70: 87.30000305175781 %\n"
          ]
        },
        {
          "output_type": "stream",
          "name": "stderr",
          "text": [
            ""
          ]
        },
        {
          "output_type": "stream",
          "name": "stdout",
          "text": [
            "Training loss at epoch 71: 0.02659379784599878\n",
            "Training accuracy at epoch 71: 85.7625 %\n",
            "Val accuracy at epoch 71: 87.1500015258789 %\n"
          ]
        },
        {
          "output_type": "stream",
          "name": "stderr",
          "text": [
            ""
          ]
        },
        {
          "output_type": "stream",
          "name": "stdout",
          "text": [
            "Training loss at epoch 72: 0.03023418810334988\n",
            "Training accuracy at epoch 72: 85.9625 %\n",
            "Val accuracy at epoch 72: 79.9000015258789 %\n"
          ]
        },
        {
          "output_type": "stream",
          "name": "stderr",
          "text": [
            ""
          ]
        },
        {
          "output_type": "stream",
          "name": "stdout",
          "text": [
            "Training loss at epoch 73: 0.04417595152044669\n",
            "Training accuracy at epoch 73: 85.3375 %\n",
            "Val accuracy at epoch 73: 80.0 %\n"
          ]
        },
        {
          "output_type": "stream",
          "name": "stderr",
          "text": [
            ""
          ]
        },
        {
          "output_type": "stream",
          "name": "stdout",
          "text": [
            "Training loss at epoch 74: 0.027265181537950413\n",
            "Training accuracy at epoch 74: 84.425 %\n",
            "Val accuracy at epoch 74: 79.6500015258789 %\n"
          ]
        },
        {
          "output_type": "stream",
          "name": "stderr",
          "text": [
            ""
          ]
        },
        {
          "output_type": "stream",
          "name": "stdout",
          "text": [
            "Training loss at epoch 75: 0.02425282644107938\n",
            "Training accuracy at epoch 75: 84.575 %\n",
            "Val accuracy at epoch 75: 84.55000305175781 %\n"
          ]
        },
        {
          "output_type": "stream",
          "name": "stderr",
          "text": [
            ""
          ]
        },
        {
          "output_type": "stream",
          "name": "stdout",
          "text": [
            "Training loss at epoch 76: 0.02392975374823436\n",
            "Training accuracy at epoch 76: 85.3875 %\n",
            "Val accuracy at epoch 76: 85.80000305175781 %\n"
          ]
        },
        {
          "output_type": "stream",
          "name": "stderr",
          "text": [
            ""
          ]
        },
        {
          "output_type": "stream",
          "name": "stdout",
          "text": [
            "Training loss at epoch 77: 0.038099055888596925\n",
            "Training accuracy at epoch 77: 83.775 %\n",
            "Val accuracy at epoch 77: 86.94999694824219 %\n"
          ]
        },
        {
          "output_type": "stream",
          "name": "stderr",
          "text": [
            ""
          ]
        },
        {
          "output_type": "stream",
          "name": "stdout",
          "text": [
            "Training loss at epoch 78: 0.027319210092537106\n",
            "Training accuracy at epoch 78: 83.85 %\n",
            "Val accuracy at epoch 78: 87.05000305175781 %\n"
          ]
        },
        {
          "output_type": "stream",
          "name": "stderr",
          "text": [
            ""
          ]
        },
        {
          "output_type": "stream",
          "name": "stdout",
          "text": [
            "Training loss at epoch 79: 0.03196470849215984\n",
            "Training accuracy at epoch 79: 87.1125 %\n",
            "Val accuracy at epoch 79: 85.94999694824219 %\n"
          ]
        },
        {
          "output_type": "stream",
          "name": "stderr",
          "text": [
            ""
          ]
        },
        {
          "output_type": "stream",
          "name": "stdout",
          "text": [
            "Training loss at epoch 80: 0.024526982096722348\n",
            "Training accuracy at epoch 80: 85.7875 %\n",
            "Val accuracy at epoch 80: 83.4000015258789 %\n"
          ]
        },
        {
          "output_type": "stream",
          "name": "stderr",
          "text": [
            ""
          ]
        },
        {
          "output_type": "stream",
          "name": "stdout",
          "text": [
            "Training loss at epoch 81: 0.03306156810140237\n",
            "Training accuracy at epoch 81: 85.3375 %\n",
            "Val accuracy at epoch 81: 83.8499984741211 %\n"
          ]
        },
        {
          "output_type": "stream",
          "name": "stderr",
          "text": [
            ""
          ]
        },
        {
          "output_type": "stream",
          "name": "stdout",
          "text": [
            "Training loss at epoch 82: 0.030423500522738324\n",
            "Training accuracy at epoch 82: 85.45 %\n",
            "Val accuracy at epoch 82: 79.75 %\n"
          ]
        },
        {
          "output_type": "stream",
          "name": "stderr",
          "text": [
            ""
          ]
        },
        {
          "output_type": "stream",
          "name": "stdout",
          "text": [
            "Training loss at epoch 83: 0.028912608610698953\n",
            "Training accuracy at epoch 83: 87.1 %\n",
            "Val accuracy at epoch 83: 81.0999984741211 %\n"
          ]
        },
        {
          "output_type": "stream",
          "name": "stderr",
          "text": [
            ""
          ]
        },
        {
          "output_type": "stream",
          "name": "stdout",
          "text": [
            "Training loss at epoch 84: 0.03121847889269702\n",
            "Training accuracy at epoch 84: 85.1 %\n",
            "Val accuracy at epoch 84: 84.55000305175781 %\n"
          ]
        },
        {
          "output_type": "stream",
          "name": "stderr",
          "text": [
            ""
          ]
        },
        {
          "output_type": "stream",
          "name": "stdout",
          "text": [
            "Training loss at epoch 85: 0.029781394312158226\n",
            "Training accuracy at epoch 85: 87.4125 %\n",
            "Val accuracy at epoch 85: 87.69999694824219 %\n"
          ]
        },
        {
          "output_type": "stream",
          "name": "stderr",
          "text": [
            ""
          ]
        },
        {
          "output_type": "stream",
          "name": "stdout",
          "text": [
            "Training loss at epoch 86: 0.03498282661894336\n",
            "Training accuracy at epoch 86: 84.175 %\n",
            "Val accuracy at epoch 86: 85.25 %\n"
          ]
        },
        {
          "output_type": "stream",
          "name": "stderr",
          "text": [
            ""
          ]
        },
        {
          "output_type": "stream",
          "name": "stdout",
          "text": [
            "Training loss at epoch 87: 0.02621031811577268\n",
            "Training accuracy at epoch 87: 81.15 %\n",
            "Val accuracy at epoch 87: 66.5999984741211 %\n"
          ]
        },
        {
          "output_type": "stream",
          "name": "stderr",
          "text": [
            ""
          ]
        },
        {
          "output_type": "stream",
          "name": "stdout",
          "text": [
            "Training loss at epoch 88: 0.029060915822628885\n",
            "Training accuracy at epoch 88: 82.2875 %\n",
            "Val accuracy at epoch 88: 84.1500015258789 %\n"
          ]
        },
        {
          "output_type": "stream",
          "name": "stderr",
          "text": [
            ""
          ]
        },
        {
          "output_type": "stream",
          "name": "stdout",
          "text": [
            "Training loss at epoch 89: 0.025023644138127566\n",
            "Training accuracy at epoch 89: 85.15 %\n",
            "Val accuracy at epoch 89: 80.69999694824219 %\n"
          ]
        },
        {
          "output_type": "stream",
          "name": "stderr",
          "text": [
            ""
          ]
        },
        {
          "output_type": "stream",
          "name": "stdout",
          "text": [
            "Training loss at epoch 90: 0.03408213431830518\n",
            "Training accuracy at epoch 90: 85.3625 %\n",
            "Val accuracy at epoch 90: 78.8499984741211 %\n"
          ]
        },
        {
          "output_type": "stream",
          "name": "stderr",
          "text": [
            ""
          ]
        },
        {
          "output_type": "stream",
          "name": "stdout",
          "text": [
            "Training loss at epoch 91: 0.03635178721160628\n",
            "Training accuracy at epoch 91: 84.575 %\n",
            "Val accuracy at epoch 91: 86.44999694824219 %\n"
          ]
        },
        {
          "output_type": "stream",
          "name": "stderr",
          "text": [
            ""
          ]
        },
        {
          "output_type": "stream",
          "name": "stdout",
          "text": [
            "Training loss at epoch 92: 0.042230017244582994\n",
            "Training accuracy at epoch 92: 83.85 %\n",
            "Val accuracy at epoch 92: 81.55000305175781 %\n"
          ]
        },
        {
          "output_type": "stream",
          "name": "stderr",
          "text": [
            ""
          ]
        },
        {
          "output_type": "stream",
          "name": "stdout",
          "text": [
            "Training loss at epoch 93: 0.03384242327883839\n",
            "Training accuracy at epoch 93: 85.475 %\n",
            "Val accuracy at epoch 93: 85.8499984741211 %\n"
          ]
        },
        {
          "output_type": "stream",
          "name": "stderr",
          "text": [
            ""
          ]
        },
        {
          "output_type": "stream",
          "name": "stdout",
          "text": [
            "Training loss at epoch 94: 0.03282192516489886\n",
            "Training accuracy at epoch 94: 80.625 %\n",
            "Val accuracy at epoch 94: 81.9000015258789 %\n"
          ]
        },
        {
          "output_type": "stream",
          "name": "stderr",
          "text": [
            ""
          ]
        },
        {
          "output_type": "stream",
          "name": "stdout",
          "text": [
            "Training loss at epoch 95: 0.029310036048991607\n",
            "Training accuracy at epoch 95: 85.2125 %\n",
            "Val accuracy at epoch 95: 86.44999694824219 %\n"
          ]
        },
        {
          "output_type": "stream",
          "name": "stderr",
          "text": [
            ""
          ]
        },
        {
          "output_type": "stream",
          "name": "stdout",
          "text": [
            "Training loss at epoch 96: 0.03402702297898941\n",
            "Training accuracy at epoch 96: 84.7625 %\n",
            "Val accuracy at epoch 96: 84.6500015258789 %\n"
          ]
        },
        {
          "output_type": "stream",
          "name": "stderr",
          "text": [
            ""
          ]
        },
        {
          "output_type": "stream",
          "name": "stdout",
          "text": [
            "Training loss at epoch 97: 0.026112125150393694\n",
            "Training accuracy at epoch 97: 81.4625 %\n",
            "Val accuracy at epoch 97: 86.1500015258789 %\n"
          ]
        },
        {
          "output_type": "stream",
          "name": "stderr",
          "text": [
            ""
          ]
        },
        {
          "output_type": "stream",
          "name": "stdout",
          "text": [
            "Training loss at epoch 98: 0.03089819452143274\n",
            "Training accuracy at epoch 98: 85.275 %\n",
            "Val accuracy at epoch 98: 77.3499984741211 %\n"
          ]
        },
        {
          "output_type": "stream",
          "name": "stderr",
          "text": [
            ""
          ]
        },
        {
          "output_type": "stream",
          "name": "stdout",
          "text": [
            "Training loss at epoch 99: 0.02221195020247251\n",
            "Training accuracy at epoch 99: 84.9625 %\n",
            "Val accuracy at epoch 99: 83.55000305175781 %\n"
          ]
        },
        {
          "output_type": "stream",
          "name": "stderr",
          "text": [
            ""
          ]
        },
        {
          "output_type": "stream",
          "name": "stdout",
          "text": [
            "Training loss at epoch 100: 0.014665100857382641\n",
            "Training accuracy at epoch 100: 91.05 %\n",
            "Val accuracy at epoch 100: 89.55000305175781 %\n"
          ]
        },
        {
          "output_type": "stream",
          "name": "stderr",
          "text": [
            ""
          ]
        },
        {
          "output_type": "stream",
          "name": "stdout",
          "text": [
            "Training loss at epoch 101: 0.02795499886851758\n",
            "Training accuracy at epoch 101: 92.275 %\n",
            "Val accuracy at epoch 101: 89.0 %\n"
          ]
        },
        {
          "output_type": "stream",
          "name": "stderr",
          "text": [
            ""
          ]
        },
        {
          "output_type": "stream",
          "name": "stdout",
          "text": [
            "Training loss at epoch 102: 0.020441936195129528\n",
            "Training accuracy at epoch 102: 93.0 %\n",
            "Val accuracy at epoch 102: 89.5999984741211 %\n"
          ]
        },
        {
          "output_type": "stream",
          "name": "stderr",
          "text": [
            ""
          ]
        },
        {
          "output_type": "stream",
          "name": "stdout",
          "text": [
            "Training loss at epoch 103: 0.02624929548765067\n",
            "Training accuracy at epoch 103: 93.3875 %\n",
            "Val accuracy at epoch 103: 88.9000015258789 %\n"
          ]
        },
        {
          "output_type": "stream",
          "name": "stderr",
          "text": [
            ""
          ]
        },
        {
          "output_type": "stream",
          "name": "stdout",
          "text": [
            "Training loss at epoch 104: 0.013903098963783122\n",
            "Training accuracy at epoch 104: 92.4125 %\n",
            "Val accuracy at epoch 104: 88.5999984741211 %\n"
          ]
        },
        {
          "output_type": "stream",
          "name": "stderr",
          "text": [
            ""
          ]
        },
        {
          "output_type": "stream",
          "name": "stdout",
          "text": [
            "Training loss at epoch 105: 0.016952241299441083\n",
            "Training accuracy at epoch 105: 93.1625 %\n",
            "Val accuracy at epoch 105: 85.8499984741211 %\n"
          ]
        },
        {
          "output_type": "stream",
          "name": "stderr",
          "text": [
            ""
          ]
        },
        {
          "output_type": "stream",
          "name": "stdout",
          "text": [
            "Training loss at epoch 106: 0.02339639057754539\n",
            "Training accuracy at epoch 106: 93.0625 %\n",
            "Val accuracy at epoch 106: 89.6500015258789 %\n"
          ]
        },
        {
          "output_type": "stream",
          "name": "stderr",
          "text": [
            ""
          ]
        },
        {
          "output_type": "stream",
          "name": "stdout",
          "text": [
            "Training loss at epoch 107: 0.026014603511430322\n",
            "Training accuracy at epoch 107: 93.6 %\n",
            "Val accuracy at epoch 107: 89.44999694824219 %\n"
          ]
        },
        {
          "output_type": "stream",
          "name": "stderr",
          "text": [
            ""
          ]
        },
        {
          "output_type": "stream",
          "name": "stdout",
          "text": [
            "Training loss at epoch 108: 0.02885778201452922\n",
            "Training accuracy at epoch 108: 93.4625 %\n",
            "Val accuracy at epoch 108: 88.9000015258789 %\n"
          ]
        },
        {
          "output_type": "stream",
          "name": "stderr",
          "text": [
            ""
          ]
        },
        {
          "output_type": "stream",
          "name": "stdout",
          "text": [
            "Training loss at epoch 109: 0.017292771831853314\n",
            "Training accuracy at epoch 109: 93.575 %\n",
            "Val accuracy at epoch 109: 89.0999984741211 %\n"
          ]
        },
        {
          "output_type": "stream",
          "name": "stderr",
          "text": [
            ""
          ]
        },
        {
          "output_type": "stream",
          "name": "stdout",
          "text": [
            "Training loss at epoch 110: 0.017293296527350323\n",
            "Training accuracy at epoch 110: 93.7125 %\n",
            "Val accuracy at epoch 110: 89.8499984741211 %\n"
          ]
        },
        {
          "output_type": "stream",
          "name": "stderr",
          "text": [
            ""
          ]
        },
        {
          "output_type": "stream",
          "name": "stdout",
          "text": [
            "Training loss at epoch 111: 0.016887679221690634\n",
            "Training accuracy at epoch 111: 93.475 %\n",
            "Val accuracy at epoch 111: 89.5 %\n"
          ]
        },
        {
          "output_type": "stream",
          "name": "stderr",
          "text": [
            ""
          ]
        },
        {
          "output_type": "stream",
          "name": "stdout",
          "text": [
            "Training loss at epoch 112: 0.03124331025464926\n",
            "Training accuracy at epoch 112: 93.4125 %\n",
            "Val accuracy at epoch 112: 89.0 %\n"
          ]
        },
        {
          "output_type": "stream",
          "name": "stderr",
          "text": [
            ""
          ]
        },
        {
          "output_type": "stream",
          "name": "stdout",
          "text": [
            "Training loss at epoch 113: 0.02709523242956493\n",
            "Training accuracy at epoch 113: 93.4375 %\n",
            "Val accuracy at epoch 113: 89.6500015258789 %\n"
          ]
        },
        {
          "output_type": "stream",
          "name": "stderr",
          "text": [
            ""
          ]
        },
        {
          "output_type": "stream",
          "name": "stdout",
          "text": [
            "Training loss at epoch 114: 0.025312345108250155\n",
            "Training accuracy at epoch 114: 93.6125 %\n",
            "Val accuracy at epoch 114: 89.69999694824219 %\n"
          ]
        },
        {
          "output_type": "stream",
          "name": "stderr",
          "text": [
            ""
          ]
        },
        {
          "output_type": "stream",
          "name": "stdout",
          "text": [
            "Training loss at epoch 115: 0.013620476637152023\n",
            "Training accuracy at epoch 115: 93.8375 %\n",
            "Val accuracy at epoch 115: 89.0999984741211 %\n"
          ]
        },
        {
          "output_type": "stream",
          "name": "stderr",
          "text": [
            ""
          ]
        },
        {
          "output_type": "stream",
          "name": "stdout",
          "text": [
            "Training loss at epoch 116: 0.028278189492993988\n",
            "Training accuracy at epoch 116: 93.7 %\n",
            "Val accuracy at epoch 116: 88.05000305175781 %\n"
          ]
        },
        {
          "output_type": "stream",
          "name": "stderr",
          "text": [
            ""
          ]
        },
        {
          "output_type": "stream",
          "name": "stdout",
          "text": [
            "Training loss at epoch 117: 0.018633750310982578\n",
            "Training accuracy at epoch 117: 93.775 %\n",
            "Val accuracy at epoch 117: 88.5999984741211 %\n"
          ]
        },
        {
          "output_type": "stream",
          "name": "stderr",
          "text": [
            ""
          ]
        },
        {
          "output_type": "stream",
          "name": "stdout",
          "text": [
            "Training loss at epoch 118: 0.015376701211789624\n",
            "Training accuracy at epoch 118: 93.4125 %\n",
            "Val accuracy at epoch 118: 87.8499984741211 %\n"
          ]
        },
        {
          "output_type": "stream",
          "name": "stderr",
          "text": [
            ""
          ]
        },
        {
          "output_type": "stream",
          "name": "stdout",
          "text": [
            "Training loss at epoch 119: 0.019512246997328474\n",
            "Training accuracy at epoch 119: 93.4625 %\n",
            "Val accuracy at epoch 119: 87.6500015258789 %\n"
          ]
        },
        {
          "output_type": "stream",
          "name": "stderr",
          "text": [
            ""
          ]
        },
        {
          "output_type": "stream",
          "name": "stdout",
          "text": [
            "Training loss at epoch 120: 0.025705592462327332\n",
            "Training accuracy at epoch 120: 93.75 %\n",
            "Val accuracy at epoch 120: 89.75 %\n"
          ]
        },
        {
          "output_type": "stream",
          "name": "stderr",
          "text": [
            ""
          ]
        },
        {
          "output_type": "stream",
          "name": "stdout",
          "text": [
            "Training loss at epoch 121: 0.03058111410646234\n",
            "Training accuracy at epoch 121: 94.3875 %\n",
            "Val accuracy at epoch 121: 89.19999694824219 %\n"
          ]
        },
        {
          "output_type": "stream",
          "name": "stderr",
          "text": [
            ""
          ]
        },
        {
          "output_type": "stream",
          "name": "stdout",
          "text": [
            "Training loss at epoch 122: 0.021019731237902305\n",
            "Training accuracy at epoch 122: 93.9125 %\n",
            "Val accuracy at epoch 122: 89.5 %\n"
          ]
        },
        {
          "output_type": "stream",
          "name": "stderr",
          "text": [
            ""
          ]
        },
        {
          "output_type": "stream",
          "name": "stdout",
          "text": [
            "Training loss at epoch 123: 0.02779513626883272\n",
            "Training accuracy at epoch 123: 93.6625 %\n",
            "Val accuracy at epoch 123: 89.6500015258789 %\n"
          ]
        },
        {
          "output_type": "stream",
          "name": "stderr",
          "text": [
            ""
          ]
        },
        {
          "output_type": "stream",
          "name": "stdout",
          "text": [
            "Training loss at epoch 124: 0.03057592130789999\n",
            "Training accuracy at epoch 124: 94.125 %\n",
            "Val accuracy at epoch 124: 89.0999984741211 %\n"
          ]
        },
        {
          "output_type": "stream",
          "name": "stderr",
          "text": [
            ""
          ]
        },
        {
          "output_type": "stream",
          "name": "stdout",
          "text": [
            "Training loss at epoch 125: 0.03473579681158299\n",
            "Training accuracy at epoch 125: 93.7375 %\n",
            "Val accuracy at epoch 125: 90.19999694824219 %\n"
          ]
        },
        {
          "output_type": "stream",
          "name": "stderr",
          "text": [
            ""
          ]
        },
        {
          "output_type": "stream",
          "name": "stdout",
          "text": [
            "Training loss at epoch 126: 0.03226839571434539\n",
            "Training accuracy at epoch 126: 94.275 %\n",
            "Val accuracy at epoch 126: 90.05000305175781 %\n"
          ]
        },
        {
          "output_type": "stream",
          "name": "stderr",
          "text": [
            ""
          ]
        },
        {
          "output_type": "stream",
          "name": "stdout",
          "text": [
            "Training loss at epoch 127: 0.02056081579066813\n",
            "Training accuracy at epoch 127: 94.025 %\n",
            "Val accuracy at epoch 127: 89.0999984741211 %\n"
          ]
        },
        {
          "output_type": "stream",
          "name": "stderr",
          "text": [
            ""
          ]
        },
        {
          "output_type": "stream",
          "name": "stdout",
          "text": [
            "Training loss at epoch 128: 0.012493523594457656\n",
            "Training accuracy at epoch 128: 93.625 %\n",
            "Val accuracy at epoch 128: 89.44999694824219 %\n"
          ]
        },
        {
          "output_type": "stream",
          "name": "stderr",
          "text": [
            ""
          ]
        },
        {
          "output_type": "stream",
          "name": "stdout",
          "text": [
            "Training loss at epoch 129: 0.016709517646813766\n",
            "Training accuracy at epoch 129: 93.975 %\n",
            "Val accuracy at epoch 129: 89.0999984741211 %\n"
          ]
        },
        {
          "output_type": "stream",
          "name": "stderr",
          "text": [
            ""
          ]
        },
        {
          "output_type": "stream",
          "name": "stdout",
          "text": [
            "Training loss at epoch 130: 0.019783219503005968\n",
            "Training accuracy at epoch 130: 94.25 %\n",
            "Val accuracy at epoch 130: 89.75 %\n"
          ]
        },
        {
          "output_type": "stream",
          "name": "stderr",
          "text": [
            ""
          ]
        },
        {
          "output_type": "stream",
          "name": "stdout",
          "text": [
            "Training loss at epoch 131: 0.023076800446142444\n",
            "Training accuracy at epoch 131: 94.1125 %\n",
            "Val accuracy at epoch 131: 89.5999984741211 %\n"
          ]
        },
        {
          "output_type": "stream",
          "name": "stderr",
          "text": [
            ""
          ]
        },
        {
          "output_type": "stream",
          "name": "stdout",
          "text": [
            "Training loss at epoch 132: 0.016910199285484852\n",
            "Training accuracy at epoch 132: 93.9625 %\n",
            "Val accuracy at epoch 132: 89.55000305175781 %\n"
          ]
        },
        {
          "output_type": "stream",
          "name": "stderr",
          "text": [
            ""
          ]
        },
        {
          "output_type": "stream",
          "name": "stdout",
          "text": [
            "Training loss at epoch 133: 0.035669367120135576\n",
            "Training accuracy at epoch 133: 94.275 %\n",
            "Val accuracy at epoch 133: 89.3499984741211 %\n"
          ]
        },
        {
          "output_type": "stream",
          "name": "stderr",
          "text": [
            ""
          ]
        },
        {
          "output_type": "stream",
          "name": "stdout",
          "text": [
            "Training loss at epoch 134: 0.03468662542873062\n",
            "Training accuracy at epoch 134: 93.9375 %\n",
            "Val accuracy at epoch 134: 89.1500015258789 %\n"
          ]
        },
        {
          "output_type": "stream",
          "name": "stderr",
          "text": [
            ""
          ]
        },
        {
          "output_type": "stream",
          "name": "stdout",
          "text": [
            "Training loss at epoch 135: 0.017700527084525675\n",
            "Training accuracy at epoch 135: 93.9625 %\n",
            "Val accuracy at epoch 135: 89.1500015258789 %\n"
          ]
        },
        {
          "output_type": "stream",
          "name": "stderr",
          "text": [
            ""
          ]
        },
        {
          "output_type": "stream",
          "name": "stdout",
          "text": [
            "Training loss at epoch 136: 0.04524903432757128\n",
            "Training accuracy at epoch 136: 94.5 %\n",
            "Val accuracy at epoch 136: 90.25 %\n"
          ]
        },
        {
          "output_type": "stream",
          "name": "stderr",
          "text": [
            ""
          ]
        },
        {
          "output_type": "stream",
          "name": "stdout",
          "text": [
            "Training loss at epoch 137: 0.03825597698742058\n",
            "Training accuracy at epoch 137: 94.5375 %\n",
            "Val accuracy at epoch 137: 90.05000305175781 %\n"
          ]
        },
        {
          "output_type": "stream",
          "name": "stderr",
          "text": [
            ""
          ]
        },
        {
          "output_type": "stream",
          "name": "stdout",
          "text": [
            "Training loss at epoch 138: 0.008665647750603966\n",
            "Training accuracy at epoch 138: 93.95 %\n",
            "Val accuracy at epoch 138: 89.6500015258789 %\n"
          ]
        },
        {
          "output_type": "stream",
          "name": "stderr",
          "text": [
            ""
          ]
        },
        {
          "output_type": "stream",
          "name": "stdout",
          "text": [
            "Training loss at epoch 139: 0.02857062154216692\n",
            "Training accuracy at epoch 139: 94.6875 %\n",
            "Val accuracy at epoch 139: 89.6500015258789 %\n"
          ]
        },
        {
          "output_type": "stream",
          "name": "stderr",
          "text": [
            ""
          ]
        },
        {
          "output_type": "stream",
          "name": "stdout",
          "text": [
            "Training loss at epoch 140: 0.020791678220848552\n",
            "Training accuracy at epoch 140: 94.375 %\n",
            "Val accuracy at epoch 140: 89.5 %\n"
          ]
        },
        {
          "output_type": "stream",
          "name": "stderr",
          "text": [
            ""
          ]
        },
        {
          "output_type": "stream",
          "name": "stdout",
          "text": [
            "Training loss at epoch 141: 0.01868420593527844\n",
            "Training accuracy at epoch 141: 94.525 %\n",
            "Val accuracy at epoch 141: 89.94999694824219 %\n"
          ]
        },
        {
          "output_type": "stream",
          "name": "stderr",
          "text": [
            ""
          ]
        },
        {
          "output_type": "stream",
          "name": "stdout",
          "text": [
            "Training loss at epoch 142: 0.01348666287085507\n",
            "Training accuracy at epoch 142: 94.75 %\n",
            "Val accuracy at epoch 142: 89.4000015258789 %\n"
          ]
        },
        {
          "output_type": "stream",
          "name": "stderr",
          "text": [
            ""
          ]
        },
        {
          "output_type": "stream",
          "name": "stdout",
          "text": [
            "Training loss at epoch 143: 0.02610473606036976\n",
            "Training accuracy at epoch 143: 94.0125 %\n",
            "Val accuracy at epoch 143: 88.94999694824219 %\n"
          ]
        },
        {
          "output_type": "stream",
          "name": "stderr",
          "text": [
            ""
          ]
        },
        {
          "output_type": "stream",
          "name": "stdout",
          "text": [
            "Training loss at epoch 144: 0.02025099564198172\n",
            "Training accuracy at epoch 144: 94.625 %\n",
            "Val accuracy at epoch 144: 89.8499984741211 %\n"
          ]
        },
        {
          "output_type": "stream",
          "name": "stderr",
          "text": [
            ""
          ]
        },
        {
          "output_type": "stream",
          "name": "stdout",
          "text": [
            "Training loss at epoch 145: 0.021027435126597993\n",
            "Training accuracy at epoch 145: 94.6125 %\n",
            "Val accuracy at epoch 145: 89.25 %\n"
          ]
        },
        {
          "output_type": "stream",
          "name": "stderr",
          "text": [
            ""
          ]
        },
        {
          "output_type": "stream",
          "name": "stdout",
          "text": [
            "Training loss at epoch 146: 0.02964972564514028\n",
            "Training accuracy at epoch 146: 93.7625 %\n",
            "Val accuracy at epoch 146: 89.6500015258789 %\n"
          ]
        },
        {
          "output_type": "stream",
          "name": "stderr",
          "text": [
            ""
          ]
        },
        {
          "output_type": "stream",
          "name": "stdout",
          "text": [
            "Training loss at epoch 147: 0.03438395654084161\n",
            "Training accuracy at epoch 147: 93.575 %\n",
            "Val accuracy at epoch 147: 88.30000305175781 %\n"
          ]
        },
        {
          "output_type": "stream",
          "name": "stderr",
          "text": [
            ""
          ]
        },
        {
          "output_type": "stream",
          "name": "stdout",
          "text": [
            "Training loss at epoch 148: 0.02416774545854423\n",
            "Training accuracy at epoch 148: 93.8375 %\n",
            "Val accuracy at epoch 148: 90.05000305175781 %\n"
          ]
        },
        {
          "output_type": "stream",
          "name": "stderr",
          "text": [
            "                                               "
          ]
        },
        {
          "output_type": "stream",
          "name": "stdout",
          "text": [
            "Training loss at epoch 149: 0.014049235731363297\n",
            "Training accuracy at epoch 149: 94.4375 %\n",
            "Val accuracy at epoch 149: 88.55000305175781 %\n"
          ]
        },
        {
          "output_type": "stream",
          "name": "stderr",
          "text": [
            "\r"
          ]
        }
      ],
      "source": [
        "highest_val_acc_so_far = -1\n",
        "best_so_far = False\n",
        "\n",
        "for epoch in range(start_epoch, epochs):\n",
        "    \n",
        "    loss, acc = train()\n",
        "    \n",
        "    val_acc = test(loaders=[loaders['val']], iters=[max_iters])[0][max_iters]\n",
        "    \n",
        "    if val_acc > highest_val_acc_so_far:\n",
        "        best_so_far = True\n",
        "        highest_val_acc_so_far = val_acc\n",
        "        \n",
        "    print(f\"Training loss at epoch {epoch}: {loss}\")\n",
        "    print(f\"Training accuracy at epoch {epoch}: {acc} %\")\n",
        "    print(f\"Val accuracy at epoch {epoch}: {val_acc} %\")\n",
        "\n",
        "    # if the loss is nan, then stop the training\n",
        "    if np.isnan(float(loss)):\n",
        "        raise ValueError(f\"Loss is nan, exiting...\")"
      ]
    },
    {
      "cell_type": "code",
      "source": [
        "torch.save(net, 'weights_final.pt')"
      ],
      "metadata": {
        "id": "fCXqnc3HMoKY"
      },
      "id": "fCXqnc3HMoKY",
      "execution_count": null,
      "outputs": []
    },
    {
      "cell_type": "markdown",
      "id": "b701fb68-d9ba-408c-8b4c-4cebae88445c",
      "metadata": {
        "tags": [],
        "id": "b701fb68-d9ba-408c-8b4c-4cebae88445c"
      },
      "source": [
        "## Main 4. Testing"
      ]
    },
    {
      "cell_type": "code",
      "execution_count": null,
      "id": "73bddbdd-8984-4ee4-a343-b3e7387874f2",
      "metadata": {
        "id": "73bddbdd-8984-4ee4-a343-b3e7387874f2",
        "colab": {
          "base_uri": "https://localhost:8080/"
        },
        "outputId": "78470f99-2947-45de-b950-e256bd28bb63"
      },
      "outputs": [
        {
          "output_type": "stream",
          "name": "stderr",
          "text": [
            "                                               "
          ]
        },
        {
          "output_type": "stream",
          "name": "stdout",
          "text": [
            "Training accuracy: {15: 93.4375, 25: 90.75, 35: 88.19999694824219, 45: 86.69999694824219, 55: 86.0, 65: 85.5374984741211, 75: 85.2125015258789, 85: 84.9625015258789, 95: 84.82499694824219, 105: 84.7125015258789, 115: 84.625, 125: 84.5875015258789, 135: 84.5625, 145: 84.55000305175781, 155: 84.5250015258789, 165: 84.5, 175: 84.44999694824219, 185: 84.4375, 195: 84.4375, 205: 84.42500305175781}\n",
            "Val accuracy: {15: 88.55000305175781, 25: 87.4000015258789, 35: 85.3499984741211, 45: 84.6500015258789, 55: 83.5999984741211, 65: 83.19999694824219, 75: 82.9000015258789, 85: 82.8499984741211, 95: 82.69999694824219, 105: 82.69999694824219, 115: 82.55000305175781, 125: 82.55000305175781, 135: 82.55000305175781, 145: 82.5, 155: 82.5, 165: 82.5, 175: 82.5, 185: 82.5, 195: 82.44999694824219, 205: 82.44999694824219}\n",
            "Testing accuracy (hard data): {15: 0.0, 25: 0.5899999737739563, 35: 8.930000305175781, 45: 14.329999923706055, 55: 16.200000762939453, 65: 16.940000534057617, 75: 17.1200008392334, 85: 17.219999313354492, 95: 17.190000534057617, 105: 17.200000762939453, 115: 17.200000762939453, 125: 17.170000076293945, 135: 17.170000076293945, 145: 17.149999618530273, 155: 17.149999618530273, 165: 17.149999618530273, 175: 17.139999389648438, 185: 17.139999389648438, 195: 17.139999389648438, 205: 17.139999389648438}\n"
          ]
        },
        {
          "output_type": "stream",
          "name": "stderr",
          "text": [
            "\r"
          ]
        }
      ],
      "source": [
        "'''\n",
        "test_acc, val_acc, train_acc = test(net,\n",
        "                                    [loaders[\"test\"], loaders[\"val\"], loaders[\"train\"]],\n",
        "                                    test_mode,\n",
        "                                    [5],\n",
        "                                    problem,\n",
        "                                    device)\n",
        "''';\n",
        "\n",
        "test_acc, val_acc, train_acc = test([loaders['test'], loaders['val'], loaders['train']], np.arange(0, 200, 10) + max_iters)\n",
        "\n",
        "print(f\"Training accuracy: {train_acc}\")\n",
        "print(f\"Val accuracy: {val_acc}\")\n",
        "print(f\"Testing accuracy (hard data): {test_acc}\")\n"
      ]
    },
    {
      "cell_type": "code",
      "source": [
        "import pickle\n",
        "\n",
        "with open('data.pickle', 'wb') as file:\n",
        "  pickle.dump([test_acc, val_acc, train_acc], file)"
      ],
      "metadata": {
        "id": "R-LvFkZHTLbS",
        "colab": {
          "base_uri": "https://localhost:8080/",
          "height": 217
        },
        "outputId": "7b44f351-ab66-4917-f166-46473a018fde"
      },
      "id": "R-LvFkZHTLbS",
      "execution_count": null,
      "outputs": [
        {
          "output_type": "error",
          "ename": "UnpicklingError",
          "evalue": "ignored",
          "traceback": [
            "\u001b[0;31m---------------------------------------------------------------------------\u001b[0m",
            "\u001b[0;31mUnpicklingError\u001b[0m                           Traceback (most recent call last)",
            "\u001b[0;32m<ipython-input-14-c6b3a549b260>\u001b[0m in \u001b[0;36m<module>\u001b[0;34m()\u001b[0m\n\u001b[1;32m      5\u001b[0m \u001b[0;34m\u001b[0m\u001b[0m\n\u001b[1;32m      6\u001b[0m \u001b[0;32mwith\u001b[0m \u001b[0mopen\u001b[0m\u001b[0;34m(\u001b[0m\u001b[0;34m'weights_final.pt'\u001b[0m\u001b[0;34m,\u001b[0m \u001b[0;34m'rb'\u001b[0m\u001b[0;34m)\u001b[0m \u001b[0;32mas\u001b[0m \u001b[0mfile\u001b[0m\u001b[0;34m:\u001b[0m\u001b[0;34m\u001b[0m\u001b[0;34m\u001b[0m\u001b[0m\n\u001b[0;32m----> 7\u001b[0;31m   \u001b[0mnet\u001b[0m \u001b[0;34m=\u001b[0m \u001b[0mpickle\u001b[0m\u001b[0;34m.\u001b[0m\u001b[0mload\u001b[0m\u001b[0;34m(\u001b[0m\u001b[0mfile\u001b[0m\u001b[0;34m)\u001b[0m\u001b[0;34m\u001b[0m\u001b[0;34m\u001b[0m\u001b[0m\n\u001b[0m",
            "\u001b[0;31mUnpicklingError\u001b[0m: A load persistent id instruction was encountered,\nbut no persistent_load function was specified."
          ]
        }
      ]
    },
    {
      "cell_type": "markdown",
      "source": [
        "#### Visualization"
      ],
      "metadata": {
        "id": "2yo97Irk4OSi"
      },
      "id": "2yo97Irk4OSi"
    },
    {
      "cell_type": "code",
      "source": [
        "net = torch.load('weights_final.pt')"
      ],
      "metadata": {
        "id": "i4mP1ksd23pK"
      },
      "id": "i4mP1ksd23pK",
      "execution_count": null,
      "outputs": []
    },
    {
      "cell_type": "code",
      "source": [
        "#for inputs, targets in loaders['train']:\n",
        "for inputs, targets in loaders['test']:\n",
        "  inputs, targets = inputs.to(device), targets.to(device)\n",
        "  break\n",
        "\n",
        "inputs.shape, targets.shape"
      ],
      "metadata": {
        "colab": {
          "base_uri": "https://localhost:8080/"
        },
        "id": "7tGMM57T3j0o",
        "outputId": "57226ca1-fa0f-4129-81b9-7eb96c0c9ff6"
      },
      "id": "7tGMM57T3j0o",
      "execution_count": null,
      "outputs": [
        {
          "output_type": "execute_result",
          "data": {
            "text/plain": [
              "(torch.Size([100, 1, 128]), torch.Size([100, 1, 128]))"
            ]
          },
          "metadata": {},
          "execution_count": 13
        }
      ]
    },
    {
      "cell_type": "code",
      "execution_count": null,
      "id": "4b95b9dd-1ab8-40e8-99ab-3d03a18cc35c",
      "metadata": {
        "id": "4b95b9dd-1ab8-40e8-99ab-3d03a18cc35c"
      },
      "outputs": [],
      "source": [
        "#outputs = net(inputs, iters_to_do=max_iters)\n",
        "outputs = net(inputs, iters_to_do=50)"
      ]
    },
    {
      "cell_type": "code",
      "source": [
        "i = 3\n",
        "\n",
        "inputs[i][0][0]"
      ],
      "metadata": {
        "colab": {
          "base_uri": "https://localhost:8080/"
        },
        "id": "FQBCHvNq4Dt-",
        "outputId": "b3ba591e-2f87-438f-b690-1721f18c340c"
      },
      "id": "FQBCHvNq4Dt-",
      "execution_count": null,
      "outputs": [
        {
          "output_type": "execute_result",
          "data": {
            "text/plain": [
              "tensor(-0.0787, device='cuda:0')"
            ]
          },
          "metadata": {},
          "execution_count": 15
        }
      ]
    },
    {
      "cell_type": "code",
      "source": [
        "m = torch.nn.Softmax(dim=1)"
      ],
      "metadata": {
        "id": "gkQvBYpG6lUd"
      },
      "id": "gkQvBYpG6lUd",
      "execution_count": null,
      "outputs": []
    },
    {
      "cell_type": "code",
      "source": [
        "import matplotlib.pyplot as plt\n",
        "\n",
        "\n",
        "plt.figure(figsize=(5,5))\n",
        "plt.imshow(m(outputs[i]).detach().cpu().numpy().max(axis=1).T)\n",
        "plt.title('Confidence')\n",
        "plt.xlabel('Iteration Number')\n",
        "plt.ylabel('Vector Index')"
      ],
      "metadata": {
        "colab": {
          "base_uri": "https://localhost:8080/",
          "height": 367
        },
        "id": "rLyjXQy06OLp",
        "outputId": "bdc1a835-c7b5-4e01-e29e-ebb14eaabda4"
      },
      "id": "rLyjXQy06OLp",
      "execution_count": null,
      "outputs": [
        {
          "output_type": "execute_result",
          "data": {
            "text/plain": [
              "Text(0, 0.5, 'Vector Index')"
            ]
          },
          "metadata": {},
          "execution_count": 19
        },
        {
          "output_type": "display_data",
          "data": {
            "text/plain": [
              "<Figure size 360x360 with 1 Axes>"
            ],
            "image/png": "[encoded data removed]"
          },
          "metadata": {
            "needs_background": "light"
          }
        }
      ]
    },
    {
      "cell_type": "code",
      "source": [
        "plt.figure(figsize=(5,5))\n",
        "plt.imshow(m(outputs[i]).argmax(dim=1).cpu().numpy().T)\n",
        "\n",
        "plt.title('Decision')\n",
        "plt.xlabel('Iteration Number')\n",
        "plt.ylabel('Vector Index')"
      ],
      "metadata": {
        "colab": {
          "base_uri": "https://localhost:8080/",
          "height": 367
        },
        "id": "_9MX3v0j4Xmw",
        "outputId": "19776ffe-0cbb-488b-e7cc-aeefd935705b"
      },
      "id": "_9MX3v0j4Xmw",
      "execution_count": null,
      "outputs": [
        {
          "output_type": "execute_result",
          "data": {
            "text/plain": [
              "Text(0, 0.5, 'Vector Index')"
            ]
          },
          "metadata": {},
          "execution_count": 20
        },
        {
          "output_type": "display_data",
          "data": {
            "text/plain": [
              "<Figure size 360x360 with 1 Axes>"
            ],
            "image/png": "[encoded data removed]"
          },
          "metadata": {
            "needs_background": "light"
          }
        }
      ]
    },
    {
      "cell_type": "code",
      "source": [
        "plt.figure(figsize=(5,5))\n",
        "plt.imshow(targets[i].cpu().numpy().T)\n",
        "plt.axis('off')"
      ],
      "metadata": {
        "colab": {
          "base_uri": "https://localhost:8080/",
          "height": 320
        },
        "id": "qZ2Ku6618U4G",
        "outputId": "9b5457b6-b2c2-44a4-ec81-f0264a43edbc"
      },
      "id": "qZ2Ku6618U4G",
      "execution_count": null,
      "outputs": [
        {
          "output_type": "execute_result",
          "data": {
            "text/plain": [
              "(-0.5, 0.5, 127.5, -0.5)"
            ]
          },
          "metadata": {},
          "execution_count": 21
        },
        {
          "output_type": "display_data",
          "data": {
            "text/plain": [
              "<Figure size 360x360 with 1 Axes>"
            ],
            "image/png": "[encoded data removed]"
          },
          "metadata": {
            "needs_background": "light"
          }
        }
      ]
    },
    {
      "cell_type": "code",
      "source": [
        "m(outputs[i]).argmax(dim=1)[-1] == targets[i][0]"
      ],
      "metadata": {
        "colab": {
          "base_uri": "https://localhost:8080/"
        },
        "id": "n4jqdGP79iST",
        "outputId": "d3b77194-7f00-43b7-ff55-55cc39a68dff"
      },
      "id": "n4jqdGP79iST",
      "execution_count": null,
      "outputs": [
        {
          "output_type": "execute_result",
          "data": {
            "text/plain": [
              "tensor([ True,  True,  True,  True,  True,  True,  True,  True,  True,  True,\n",
              "         True,  True,  True,  True,  True,  True,  True,  True,  True,  True,\n",
              "         True,  True,  True,  True,  True, False,  True,  True,  True,  True,\n",
              "         True,  True,  True,  True,  True,  True,  True,  True,  True,  True,\n",
              "         True,  True,  True,  True,  True,  True,  True,  True,  True,  True,\n",
              "         True,  True,  True,  True,  True,  True,  True,  True,  True,  True,\n",
              "         True,  True,  True,  True,  True,  True,  True,  True,  True,  True,\n",
              "         True,  True,  True,  True,  True,  True,  True,  True,  True,  True,\n",
              "         True, False,  True,  True,  True, False,  True,  True,  True,  True,\n",
              "         True,  True,  True,  True,  True,  True,  True,  True,  True,  True,\n",
              "         True,  True,  True,  True,  True,  True,  True,  True,  True,  True,\n",
              "         True,  True,  True,  True,  True,  True,  True,  True,  True,  True,\n",
              "         True,  True,  True,  True,  True,  True,  True,  True],\n",
              "       device='cuda:0')"
            ]
          },
          "metadata": {},
          "execution_count": 18
        }
      ]
    },
    {
      "cell_type": "code",
      "source": [
        "targets[i].sum()"
      ],
      "metadata": {
        "colab": {
          "base_uri": "https://localhost:8080/"
        },
        "id": "9Vp0g6o2C0RB",
        "outputId": "06b1e68d-23a4-4108-a8f4-40e50e5f380c"
      },
      "id": "9Vp0g6o2C0RB",
      "execution_count": null,
      "outputs": [
        {
          "output_type": "execute_result",
          "data": {
            "text/plain": [
              "tensor(51, device='cuda:0')"
            ]
          },
          "metadata": {},
          "execution_count": 22
        }
      ]
    }
  ],
  "metadata": {
    "kernelspec": {
      "display_name": "Python 3",
      "language": "python",
      "name": "python3"
    },
    "language_info": {
      "codemirror_mode": {
        "name": "ipython",
        "version": 3
      },
      "file_extension": ".py",
      "mimetype": "text/x-python",
      "name": "python",
      "nbconvert_exporter": "python",
      "pygments_lexer": "ipython3",
      "version": "3.8.8"
    },
    "colab": {
      "name": "deep_thinking.ipynb",
      "provenance": [],
      "collapsed_sections": [
        "4fed9094-e68f-47d9-9589-04893e3fa32e",
        "vfUIUm6PuRNM",
        "lal09BsNvO4Z",
        "U4PIV8D2wAs6",
        "DG5txU9yxF8H",
        "de0b81aa-b93e-4762-9ac0-fc12c0b53385",
        "500802cb-f8fb-4693-a27f-bcb39c29bc59",
        "dbabed0d-f8f1-41a7-a5cf-46f927bc800b",
        "4E5rNCp8Nyw5"
      ]
    },
    "accelerator": "GPU"
  },
  "nbformat": 4,
  "nbformat_minor": 5
}